{
 "cells": [
  {
   "cell_type": "markdown",
   "metadata": {},
   "source": [
    "# Сборный проект 1"
   ]
  },
  {
   "cell_type": "markdown",
   "metadata": {},
   "source": [
    "## Введение"
   ]
  },
  {
   "cell_type": "markdown",
   "metadata": {},
   "source": [
    "### Описание проекта\n",
    "\n",
    "Интернет-магазине «Стримчик» продаёт по всему миру компьютерные игры. Из открытых источников доступны исторические данные о продажах игр, оценки пользователей и экспертов, жанры и платформы (например, Xbox или PlayStation). Необходимо выявить определяющие успешность игры закономерности. Это позволит сделать ставку на потенциально популярный продукт и спланировать рекламные кампании."
   ]
  },
  {
   "cell_type": "markdown",
   "metadata": {},
   "source": [
    "### Цель проекта\n",
    "\n",
    "Целью проекта является выявить лидеров среди платформ, определить какие игры принесли наибольшее количество продаж, какие жанры наиболее популярны. Помимо этого необходимо определить портрет пользователя в зависимости от региона. По итогу требуется проверить две гипотезы: \n",
    "\n",
    "1. Средние пользовательские рейтинги платформ Xbox One и PC одинаковые;\n",
    "2. Средние пользовательские рейтинги жанров Action (англ. «действие», экшен-игры) и Sports (англ. «спортивные соревнования») разные."
   ]
  },
  {
   "cell_type": "markdown",
   "metadata": {},
   "source": [
    "### Ход решения\n",
    "\n",
    "1. Открыть файл с данными и изучить общую информацию.\n",
    "2. Предобработка данных.\n",
    "4. Проанализировать данные.\n",
    "5. Составить портрет пользователя каждого региона.\n",
    "6. Проверить гипотезы.\n",
    "7. Подвести итоги исследования."
   ]
  },
  {
   "cell_type": "markdown",
   "metadata": {},
   "source": [
    "### Описание данных\n",
    "\n",
    "Name — название игры\n",
    "\n",
    "Platform — платформа\n",
    "\n",
    "Year_of_Release — год выпуска\n",
    "\n",
    "Genre — жанр игры\n",
    "\n",
    "NA_sales — продажи в Северной Америке (миллионы проданных копий)\n",
    "\n",
    "EU_sales — продажи в Европе (миллионы проданных копий)\n",
    "\n",
    "JP_sales — продажи в Японии (миллионы проданных копий)\n",
    "\n",
    "Other_sales — продажи в других странах (миллионы проданных копий)\n",
    "\n",
    "Critic_Score — оценка критиков (максимум 100)\n",
    "\n",
    "User_Score — оценка пользователей (максимум 10)\n",
    "\n",
    "Rating — рейтинг от организации ESRB (англ. Entertainment Software Rating Board). Эта ассоциация определяет рейтинг компьютерных игр и присваивает им подходящую возрастную категорию."
   ]
  },
  {
   "cell_type": "markdown",
   "metadata": {},
   "source": [
    "## Изучение данных из файла"
   ]
  },
  {
   "cell_type": "code",
   "execution_count": 1,
   "metadata": {},
   "outputs": [],
   "source": [
    "import pandas as pd\n",
    "import numpy as np\n",
    "import matplotlib.pyplot as plt\n",
    "import seaborn as sns\n",
    "from scipy import stats as st"
   ]
  },
  {
   "cell_type": "code",
   "execution_count": 2,
   "metadata": {},
   "outputs": [
    {
     "data": {
      "text/html": [
       "<div>\n",
       "<style scoped>\n",
       "    .dataframe tbody tr th:only-of-type {\n",
       "        vertical-align: middle;\n",
       "    }\n",
       "\n",
       "    .dataframe tbody tr th {\n",
       "        vertical-align: top;\n",
       "    }\n",
       "\n",
       "    .dataframe thead th {\n",
       "        text-align: right;\n",
       "    }\n",
       "</style>\n",
       "<table border=\"1\" class=\"dataframe\">\n",
       "  <thead>\n",
       "    <tr style=\"text-align: right;\">\n",
       "      <th></th>\n",
       "      <th>Name</th>\n",
       "      <th>Platform</th>\n",
       "      <th>Year_of_Release</th>\n",
       "      <th>Genre</th>\n",
       "      <th>NA_sales</th>\n",
       "      <th>EU_sales</th>\n",
       "      <th>JP_sales</th>\n",
       "      <th>Other_sales</th>\n",
       "      <th>Critic_Score</th>\n",
       "      <th>User_Score</th>\n",
       "      <th>Rating</th>\n",
       "    </tr>\n",
       "  </thead>\n",
       "  <tbody>\n",
       "    <tr>\n",
       "      <th>4236</th>\n",
       "      <td>Scooby-Doo</td>\n",
       "      <td>GBA</td>\n",
       "      <td>2001.0</td>\n",
       "      <td>Platform</td>\n",
       "      <td>0.33</td>\n",
       "      <td>0.12</td>\n",
       "      <td>0.00</td>\n",
       "      <td>0.01</td>\n",
       "      <td>64.0</td>\n",
       "      <td>tbd</td>\n",
       "      <td>E</td>\n",
       "    </tr>\n",
       "    <tr>\n",
       "      <th>11441</th>\n",
       "      <td>Tornado Outbreak</td>\n",
       "      <td>X360</td>\n",
       "      <td>2009.0</td>\n",
       "      <td>Action</td>\n",
       "      <td>0.07</td>\n",
       "      <td>0.00</td>\n",
       "      <td>0.00</td>\n",
       "      <td>0.01</td>\n",
       "      <td>62.0</td>\n",
       "      <td>8</td>\n",
       "      <td>E10+</td>\n",
       "    </tr>\n",
       "    <tr>\n",
       "      <th>1561</th>\n",
       "      <td>.hack//Infection Part 1</td>\n",
       "      <td>PS2</td>\n",
       "      <td>2002.0</td>\n",
       "      <td>Role-Playing</td>\n",
       "      <td>0.49</td>\n",
       "      <td>0.38</td>\n",
       "      <td>0.26</td>\n",
       "      <td>0.13</td>\n",
       "      <td>75.0</td>\n",
       "      <td>8.5</td>\n",
       "      <td>T</td>\n",
       "    </tr>\n",
       "    <tr>\n",
       "      <th>3110</th>\n",
       "      <td>SingStar Pop Hits</td>\n",
       "      <td>PS2</td>\n",
       "      <td>2007.0</td>\n",
       "      <td>Misc</td>\n",
       "      <td>0.00</td>\n",
       "      <td>0.50</td>\n",
       "      <td>0.00</td>\n",
       "      <td>0.15</td>\n",
       "      <td>NaN</td>\n",
       "      <td>NaN</td>\n",
       "      <td>NaN</td>\n",
       "    </tr>\n",
       "    <tr>\n",
       "      <th>3838</th>\n",
       "      <td>Madden NFL 07</td>\n",
       "      <td>PS3</td>\n",
       "      <td>2006.0</td>\n",
       "      <td>Sports</td>\n",
       "      <td>0.47</td>\n",
       "      <td>0.00</td>\n",
       "      <td>0.01</td>\n",
       "      <td>0.04</td>\n",
       "      <td>76.0</td>\n",
       "      <td>4.2</td>\n",
       "      <td>E</td>\n",
       "    </tr>\n",
       "    <tr>\n",
       "      <th>4844</th>\n",
       "      <td>Transformers: The Game (XBox 360, PS2, PS3, Wi...</td>\n",
       "      <td>PS3</td>\n",
       "      <td>2007.0</td>\n",
       "      <td>Action</td>\n",
       "      <td>0.32</td>\n",
       "      <td>0.03</td>\n",
       "      <td>0.01</td>\n",
       "      <td>0.04</td>\n",
       "      <td>NaN</td>\n",
       "      <td>NaN</td>\n",
       "      <td>NaN</td>\n",
       "    </tr>\n",
       "    <tr>\n",
       "      <th>2368</th>\n",
       "      <td>Resident Evil: Revelations</td>\n",
       "      <td>3DS</td>\n",
       "      <td>2012.0</td>\n",
       "      <td>Action</td>\n",
       "      <td>0.30</td>\n",
       "      <td>0.22</td>\n",
       "      <td>0.30</td>\n",
       "      <td>0.05</td>\n",
       "      <td>82.0</td>\n",
       "      <td>8.5</td>\n",
       "      <td>M</td>\n",
       "    </tr>\n",
       "    <tr>\n",
       "      <th>1499</th>\n",
       "      <td>The Witcher 3: Wild Hunt</td>\n",
       "      <td>XOne</td>\n",
       "      <td>2015.0</td>\n",
       "      <td>Role-Playing</td>\n",
       "      <td>0.69</td>\n",
       "      <td>0.50</td>\n",
       "      <td>0.00</td>\n",
       "      <td>0.11</td>\n",
       "      <td>91.0</td>\n",
       "      <td>9.2</td>\n",
       "      <td>M</td>\n",
       "    </tr>\n",
       "    <tr>\n",
       "      <th>10894</th>\n",
       "      <td>Medal of Honor: Vanguard</td>\n",
       "      <td>Wii</td>\n",
       "      <td>2007.0</td>\n",
       "      <td>Shooter</td>\n",
       "      <td>0.06</td>\n",
       "      <td>0.03</td>\n",
       "      <td>0.00</td>\n",
       "      <td>0.01</td>\n",
       "      <td>56.0</td>\n",
       "      <td>7</td>\n",
       "      <td>T</td>\n",
       "    </tr>\n",
       "    <tr>\n",
       "      <th>12497</th>\n",
       "      <td>Nazotoki Battle Tore! Densetsu no Makyuu o Fuk...</td>\n",
       "      <td>3DS</td>\n",
       "      <td>2014.0</td>\n",
       "      <td>Action</td>\n",
       "      <td>0.00</td>\n",
       "      <td>0.00</td>\n",
       "      <td>0.06</td>\n",
       "      <td>0.00</td>\n",
       "      <td>NaN</td>\n",
       "      <td>NaN</td>\n",
       "      <td>NaN</td>\n",
       "    </tr>\n",
       "    <tr>\n",
       "      <th>10523</th>\n",
       "      <td>Monster Jam: Maximum Destruction</td>\n",
       "      <td>GBA</td>\n",
       "      <td>2002.0</td>\n",
       "      <td>Racing</td>\n",
       "      <td>0.07</td>\n",
       "      <td>0.03</td>\n",
       "      <td>0.00</td>\n",
       "      <td>0.00</td>\n",
       "      <td>58.0</td>\n",
       "      <td>tbd</td>\n",
       "      <td>E</td>\n",
       "    </tr>\n",
       "    <tr>\n",
       "      <th>6071</th>\n",
       "      <td>Sonic &amp; All-Stars Racing Transformed</td>\n",
       "      <td>3DS</td>\n",
       "      <td>2012.0</td>\n",
       "      <td>Racing</td>\n",
       "      <td>0.12</td>\n",
       "      <td>0.14</td>\n",
       "      <td>0.00</td>\n",
       "      <td>0.02</td>\n",
       "      <td>NaN</td>\n",
       "      <td>NaN</td>\n",
       "      <td>NaN</td>\n",
       "    </tr>\n",
       "    <tr>\n",
       "      <th>7968</th>\n",
       "      <td>The Lord of the Rings: War in the North</td>\n",
       "      <td>PC</td>\n",
       "      <td>2011.0</td>\n",
       "      <td>Action</td>\n",
       "      <td>0.05</td>\n",
       "      <td>0.11</td>\n",
       "      <td>0.00</td>\n",
       "      <td>0.03</td>\n",
       "      <td>66.0</td>\n",
       "      <td>7.1</td>\n",
       "      <td>M</td>\n",
       "    </tr>\n",
       "    <tr>\n",
       "      <th>2946</th>\n",
       "      <td>The LEGO Movie Videogame</td>\n",
       "      <td>3DS</td>\n",
       "      <td>2014.0</td>\n",
       "      <td>Action</td>\n",
       "      <td>0.28</td>\n",
       "      <td>0.31</td>\n",
       "      <td>0.05</td>\n",
       "      <td>0.05</td>\n",
       "      <td>NaN</td>\n",
       "      <td>5.4</td>\n",
       "      <td>E10+</td>\n",
       "    </tr>\n",
       "    <tr>\n",
       "      <th>5314</th>\n",
       "      <td>Tom Clancy's Rainbow Six: Lockdown</td>\n",
       "      <td>PS2</td>\n",
       "      <td>2005.0</td>\n",
       "      <td>Shooter</td>\n",
       "      <td>0.17</td>\n",
       "      <td>0.13</td>\n",
       "      <td>0.00</td>\n",
       "      <td>0.04</td>\n",
       "      <td>70.0</td>\n",
       "      <td>6.9</td>\n",
       "      <td>M</td>\n",
       "    </tr>\n",
       "    <tr>\n",
       "      <th>15473</th>\n",
       "      <td>Fast &amp; Furious: Showdown</td>\n",
       "      <td>PS3</td>\n",
       "      <td>2013.0</td>\n",
       "      <td>Action</td>\n",
       "      <td>0.00</td>\n",
       "      <td>0.02</td>\n",
       "      <td>0.00</td>\n",
       "      <td>0.00</td>\n",
       "      <td>NaN</td>\n",
       "      <td>NaN</td>\n",
       "      <td>NaN</td>\n",
       "    </tr>\n",
       "  </tbody>\n",
       "</table>\n",
       "</div>"
      ],
      "text/plain": [
       "                                                    Name Platform  \\\n",
       "4236                                          Scooby-Doo      GBA   \n",
       "11441                                   Tornado Outbreak     X360   \n",
       "1561                             .hack//Infection Part 1      PS2   \n",
       "3110                                   SingStar Pop Hits      PS2   \n",
       "3838                                       Madden NFL 07      PS3   \n",
       "4844   Transformers: The Game (XBox 360, PS2, PS3, Wi...      PS3   \n",
       "2368                          Resident Evil: Revelations      3DS   \n",
       "1499                            The Witcher 3: Wild Hunt     XOne   \n",
       "10894                           Medal of Honor: Vanguard      Wii   \n",
       "12497  Nazotoki Battle Tore! Densetsu no Makyuu o Fuk...      3DS   \n",
       "10523                   Monster Jam: Maximum Destruction      GBA   \n",
       "6071                Sonic & All-Stars Racing Transformed      3DS   \n",
       "7968             The Lord of the Rings: War in the North       PC   \n",
       "2946                            The LEGO Movie Videogame      3DS   \n",
       "5314                  Tom Clancy's Rainbow Six: Lockdown      PS2   \n",
       "15473                           Fast & Furious: Showdown      PS3   \n",
       "\n",
       "       Year_of_Release         Genre  NA_sales  EU_sales  JP_sales  \\\n",
       "4236            2001.0      Platform      0.33      0.12      0.00   \n",
       "11441           2009.0        Action      0.07      0.00      0.00   \n",
       "1561            2002.0  Role-Playing      0.49      0.38      0.26   \n",
       "3110            2007.0          Misc      0.00      0.50      0.00   \n",
       "3838            2006.0        Sports      0.47      0.00      0.01   \n",
       "4844            2007.0        Action      0.32      0.03      0.01   \n",
       "2368            2012.0        Action      0.30      0.22      0.30   \n",
       "1499            2015.0  Role-Playing      0.69      0.50      0.00   \n",
       "10894           2007.0       Shooter      0.06      0.03      0.00   \n",
       "12497           2014.0        Action      0.00      0.00      0.06   \n",
       "10523           2002.0        Racing      0.07      0.03      0.00   \n",
       "6071            2012.0        Racing      0.12      0.14      0.00   \n",
       "7968            2011.0        Action      0.05      0.11      0.00   \n",
       "2946            2014.0        Action      0.28      0.31      0.05   \n",
       "5314            2005.0       Shooter      0.17      0.13      0.00   \n",
       "15473           2013.0        Action      0.00      0.02      0.00   \n",
       "\n",
       "       Other_sales  Critic_Score User_Score Rating  \n",
       "4236          0.01          64.0        tbd      E  \n",
       "11441         0.01          62.0          8   E10+  \n",
       "1561          0.13          75.0        8.5      T  \n",
       "3110          0.15           NaN        NaN    NaN  \n",
       "3838          0.04          76.0        4.2      E  \n",
       "4844          0.04           NaN        NaN    NaN  \n",
       "2368          0.05          82.0        8.5      M  \n",
       "1499          0.11          91.0        9.2      M  \n",
       "10894         0.01          56.0          7      T  \n",
       "12497         0.00           NaN        NaN    NaN  \n",
       "10523         0.00          58.0        tbd      E  \n",
       "6071          0.02           NaN        NaN    NaN  \n",
       "7968          0.03          66.0        7.1      M  \n",
       "2946          0.05           NaN        5.4   E10+  \n",
       "5314          0.04          70.0        6.9      M  \n",
       "15473         0.00           NaN        NaN    NaN  "
      ]
     },
     "execution_count": 2,
     "metadata": {},
     "output_type": "execute_result"
    }
   ],
   "source": [
    "df = pd.read_csv('/datasets/games.csv')\n",
    "df.sample(16)"
   ]
  },
  {
   "cell_type": "code",
   "execution_count": 3,
   "metadata": {},
   "outputs": [
    {
     "data": {
      "text/html": [
       "<div>\n",
       "<style scoped>\n",
       "    .dataframe tbody tr th:only-of-type {\n",
       "        vertical-align: middle;\n",
       "    }\n",
       "\n",
       "    .dataframe tbody tr th {\n",
       "        vertical-align: top;\n",
       "    }\n",
       "\n",
       "    .dataframe thead th {\n",
       "        text-align: right;\n",
       "    }\n",
       "</style>\n",
       "<table border=\"1\" class=\"dataframe\">\n",
       "  <thead>\n",
       "    <tr style=\"text-align: right;\">\n",
       "      <th></th>\n",
       "      <th>name</th>\n",
       "      <th>platform</th>\n",
       "      <th>year_of_release</th>\n",
       "      <th>genre</th>\n",
       "      <th>na_sales</th>\n",
       "      <th>eu_sales</th>\n",
       "      <th>jp_sales</th>\n",
       "      <th>other_sales</th>\n",
       "      <th>critic_score</th>\n",
       "      <th>user_score</th>\n",
       "      <th>rating</th>\n",
       "    </tr>\n",
       "  </thead>\n",
       "  <tbody>\n",
       "    <tr>\n",
       "      <th>0</th>\n",
       "      <td>Wii Sports</td>\n",
       "      <td>Wii</td>\n",
       "      <td>2006.0</td>\n",
       "      <td>Sports</td>\n",
       "      <td>41.36</td>\n",
       "      <td>28.96</td>\n",
       "      <td>3.77</td>\n",
       "      <td>8.45</td>\n",
       "      <td>76.0</td>\n",
       "      <td>8</td>\n",
       "      <td>E</td>\n",
       "    </tr>\n",
       "    <tr>\n",
       "      <th>1</th>\n",
       "      <td>Super Mario Bros.</td>\n",
       "      <td>NES</td>\n",
       "      <td>1985.0</td>\n",
       "      <td>Platform</td>\n",
       "      <td>29.08</td>\n",
       "      <td>3.58</td>\n",
       "      <td>6.81</td>\n",
       "      <td>0.77</td>\n",
       "      <td>NaN</td>\n",
       "      <td>NaN</td>\n",
       "      <td>NaN</td>\n",
       "    </tr>\n",
       "    <tr>\n",
       "      <th>2</th>\n",
       "      <td>Mario Kart Wii</td>\n",
       "      <td>Wii</td>\n",
       "      <td>2008.0</td>\n",
       "      <td>Racing</td>\n",
       "      <td>15.68</td>\n",
       "      <td>12.76</td>\n",
       "      <td>3.79</td>\n",
       "      <td>3.29</td>\n",
       "      <td>82.0</td>\n",
       "      <td>8.3</td>\n",
       "      <td>E</td>\n",
       "    </tr>\n",
       "    <tr>\n",
       "      <th>3</th>\n",
       "      <td>Wii Sports Resort</td>\n",
       "      <td>Wii</td>\n",
       "      <td>2009.0</td>\n",
       "      <td>Sports</td>\n",
       "      <td>15.61</td>\n",
       "      <td>10.93</td>\n",
       "      <td>3.28</td>\n",
       "      <td>2.95</td>\n",
       "      <td>80.0</td>\n",
       "      <td>8</td>\n",
       "      <td>E</td>\n",
       "    </tr>\n",
       "    <tr>\n",
       "      <th>4</th>\n",
       "      <td>Pokemon Red/Pokemon Blue</td>\n",
       "      <td>GB</td>\n",
       "      <td>1996.0</td>\n",
       "      <td>Role-Playing</td>\n",
       "      <td>11.27</td>\n",
       "      <td>8.89</td>\n",
       "      <td>10.22</td>\n",
       "      <td>1.00</td>\n",
       "      <td>NaN</td>\n",
       "      <td>NaN</td>\n",
       "      <td>NaN</td>\n",
       "    </tr>\n",
       "    <tr>\n",
       "      <th>...</th>\n",
       "      <td>...</td>\n",
       "      <td>...</td>\n",
       "      <td>...</td>\n",
       "      <td>...</td>\n",
       "      <td>...</td>\n",
       "      <td>...</td>\n",
       "      <td>...</td>\n",
       "      <td>...</td>\n",
       "      <td>...</td>\n",
       "      <td>...</td>\n",
       "      <td>...</td>\n",
       "    </tr>\n",
       "    <tr>\n",
       "      <th>16710</th>\n",
       "      <td>Samurai Warriors: Sanada Maru</td>\n",
       "      <td>PS3</td>\n",
       "      <td>2016.0</td>\n",
       "      <td>Action</td>\n",
       "      <td>0.00</td>\n",
       "      <td>0.00</td>\n",
       "      <td>0.01</td>\n",
       "      <td>0.00</td>\n",
       "      <td>NaN</td>\n",
       "      <td>NaN</td>\n",
       "      <td>NaN</td>\n",
       "    </tr>\n",
       "    <tr>\n",
       "      <th>16711</th>\n",
       "      <td>LMA Manager 2007</td>\n",
       "      <td>X360</td>\n",
       "      <td>2006.0</td>\n",
       "      <td>Sports</td>\n",
       "      <td>0.00</td>\n",
       "      <td>0.01</td>\n",
       "      <td>0.00</td>\n",
       "      <td>0.00</td>\n",
       "      <td>NaN</td>\n",
       "      <td>NaN</td>\n",
       "      <td>NaN</td>\n",
       "    </tr>\n",
       "    <tr>\n",
       "      <th>16712</th>\n",
       "      <td>Haitaka no Psychedelica</td>\n",
       "      <td>PSV</td>\n",
       "      <td>2016.0</td>\n",
       "      <td>Adventure</td>\n",
       "      <td>0.00</td>\n",
       "      <td>0.00</td>\n",
       "      <td>0.01</td>\n",
       "      <td>0.00</td>\n",
       "      <td>NaN</td>\n",
       "      <td>NaN</td>\n",
       "      <td>NaN</td>\n",
       "    </tr>\n",
       "    <tr>\n",
       "      <th>16713</th>\n",
       "      <td>Spirits &amp; Spells</td>\n",
       "      <td>GBA</td>\n",
       "      <td>2003.0</td>\n",
       "      <td>Platform</td>\n",
       "      <td>0.01</td>\n",
       "      <td>0.00</td>\n",
       "      <td>0.00</td>\n",
       "      <td>0.00</td>\n",
       "      <td>NaN</td>\n",
       "      <td>NaN</td>\n",
       "      <td>NaN</td>\n",
       "    </tr>\n",
       "    <tr>\n",
       "      <th>16714</th>\n",
       "      <td>Winning Post 8 2016</td>\n",
       "      <td>PSV</td>\n",
       "      <td>2016.0</td>\n",
       "      <td>Simulation</td>\n",
       "      <td>0.00</td>\n",
       "      <td>0.00</td>\n",
       "      <td>0.01</td>\n",
       "      <td>0.00</td>\n",
       "      <td>NaN</td>\n",
       "      <td>NaN</td>\n",
       "      <td>NaN</td>\n",
       "    </tr>\n",
       "  </tbody>\n",
       "</table>\n",
       "<p>16715 rows × 11 columns</p>\n",
       "</div>"
      ],
      "text/plain": [
       "                                name platform  year_of_release         genre  \\\n",
       "0                         Wii Sports      Wii           2006.0        Sports   \n",
       "1                  Super Mario Bros.      NES           1985.0      Platform   \n",
       "2                     Mario Kart Wii      Wii           2008.0        Racing   \n",
       "3                  Wii Sports Resort      Wii           2009.0        Sports   \n",
       "4           Pokemon Red/Pokemon Blue       GB           1996.0  Role-Playing   \n",
       "...                              ...      ...              ...           ...   \n",
       "16710  Samurai Warriors: Sanada Maru      PS3           2016.0        Action   \n",
       "16711               LMA Manager 2007     X360           2006.0        Sports   \n",
       "16712        Haitaka no Psychedelica      PSV           2016.0     Adventure   \n",
       "16713               Spirits & Spells      GBA           2003.0      Platform   \n",
       "16714            Winning Post 8 2016      PSV           2016.0    Simulation   \n",
       "\n",
       "       na_sales  eu_sales  jp_sales  other_sales  critic_score user_score  \\\n",
       "0         41.36     28.96      3.77         8.45          76.0          8   \n",
       "1         29.08      3.58      6.81         0.77           NaN        NaN   \n",
       "2         15.68     12.76      3.79         3.29          82.0        8.3   \n",
       "3         15.61     10.93      3.28         2.95          80.0          8   \n",
       "4         11.27      8.89     10.22         1.00           NaN        NaN   \n",
       "...         ...       ...       ...          ...           ...        ...   \n",
       "16710      0.00      0.00      0.01         0.00           NaN        NaN   \n",
       "16711      0.00      0.01      0.00         0.00           NaN        NaN   \n",
       "16712      0.00      0.00      0.01         0.00           NaN        NaN   \n",
       "16713      0.01      0.00      0.00         0.00           NaN        NaN   \n",
       "16714      0.00      0.00      0.01         0.00           NaN        NaN   \n",
       "\n",
       "      rating  \n",
       "0          E  \n",
       "1        NaN  \n",
       "2          E  \n",
       "3          E  \n",
       "4        NaN  \n",
       "...      ...  \n",
       "16710    NaN  \n",
       "16711    NaN  \n",
       "16712    NaN  \n",
       "16713    NaN  \n",
       "16714    NaN  \n",
       "\n",
       "[16715 rows x 11 columns]"
      ]
     },
     "execution_count": 3,
     "metadata": {},
     "output_type": "execute_result"
    }
   ],
   "source": [
    "#Переведем названия столбцов на \"змеиный язык\"\n",
    "\n",
    "df.columns = df.columns.str.lower()\n",
    "df"
   ]
  },
  {
   "cell_type": "code",
   "execution_count": 4,
   "metadata": {},
   "outputs": [
    {
     "data": {
      "text/plain": [
       "0"
      ]
     },
     "execution_count": 4,
     "metadata": {},
     "output_type": "execute_result"
    }
   ],
   "source": [
    "df.duplicated().sum()"
   ]
  },
  {
   "cell_type": "code",
   "execution_count": 5,
   "metadata": {},
   "outputs": [
    {
     "name": "stdout",
     "output_type": "stream",
     "text": [
      "['Wii' 'NES' 'GB' 'DS' 'X360' 'PS3' 'PS2' 'SNES' 'GBA' 'PS4' '3DS' 'N64'\n",
      " 'PS' 'XB' 'PC' '2600' 'PSP' 'XOne' 'WiiU' 'GC' 'GEN' 'DC' 'PSV' 'SAT'\n",
      " 'SCD' 'WS' 'NG' 'TG16' '3DO' 'GG' 'PCFX']\n",
      "***********************\n",
      "Первый год в выбранном периоде: 1980.0\n",
      "Последний год в выбранном периоде: 2016.0\n",
      "***********************\n",
      "['Sports' 'Platform' 'Racing' 'Role-Playing' 'Puzzle' 'Misc' 'Shooter'\n",
      " 'Simulation' 'Action' 'Fighting' 'Adventure' 'Strategy' nan]\n",
      "***********************\n",
      "Наименьшие продажи в Северной Америке: 0.0\n",
      "Наибольшие продажи в Северной Америке:: 41.36\n",
      "***********************\n",
      "Наименьшие продажи в Европе: 0.0\n",
      "Наибольшие продажи в Европе: 28.96\n",
      "***********************\n",
      "Наименьшие продажи в Японии: 0.0\n",
      "Наибольшие продажи в Японии: 10.22\n",
      "***********************\n",
      "Наименьшие продажи в остальных странах: 0.0\n",
      "Наибольшие продажи в остальных странах: 10.57\n",
      "***********************\n",
      "Наименьшая оценка критиков: 13.0\n",
      "Наибольшая оценка критиков: 98.0\n",
      "***********************\n",
      "['8' nan '8.3' '8.5' '6.6' '8.4' '8.6' '7.7' '6.3' '7.4' '8.2' '9' '7.9'\n",
      " '8.1' '8.7' '7.1' '3.4' '5.3' '4.8' '3.2' '8.9' '6.4' '7.8' '7.5' '2.6'\n",
      " '7.2' '9.2' '7' '7.3' '4.3' '7.6' '5.7' '5' '9.1' '6.5' 'tbd' '8.8' '6.9'\n",
      " '9.4' '6.8' '6.1' '6.7' '5.4' '4' '4.9' '4.5' '9.3' '6.2' '4.2' '6' '3.7'\n",
      " '4.1' '5.8' '5.6' '5.5' '4.4' '4.6' '5.9' '3.9' '3.1' '2.9' '5.2' '3.3'\n",
      " '4.7' '5.1' '3.5' '2.5' '1.9' '3' '2.7' '2.2' '2' '9.5' '2.1' '3.6' '2.8'\n",
      " '1.8' '3.8' '0' '1.6' '9.6' '2.4' '1.7' '1.1' '0.3' '1.5' '0.7' '1.2'\n",
      " '2.3' '0.5' '1.3' '0.2' '0.6' '1.4' '0.9' '1' '9.7']\n",
      "***********************\n",
      "['E' nan 'M' 'T' 'E10+' 'K-A' 'AO' 'EC' 'RP']\n"
     ]
    }
   ],
   "source": [
    "#явных дубликатов нет, проверим на неявные дубликаты и на аномальные значения\n",
    "\n",
    "print(df['platform'].unique())\n",
    "print('***********************')\n",
    "print('Первый год в выбранном периоде:',df['year_of_release'].min())\n",
    "print('Последний год в выбранном периоде:',df['year_of_release'].max())\n",
    "print('***********************')\n",
    "print(df['genre'].unique())\n",
    "print('***********************')\n",
    "print('Наименьшие продажи в Северной Америке:',df['na_sales'].min())\n",
    "print('Наибольшие продажи в Северной Америке::',df['na_sales'].max())\n",
    "print('***********************')\n",
    "print('Наименьшие продажи в Европе:',df['eu_sales'].min())\n",
    "print('Наибольшие продажи в Европе:',df['eu_sales'].max())\n",
    "print('***********************')\n",
    "print('Наименьшие продажи в Японии:',df['jp_sales'].min())\n",
    "print('Наибольшие продажи в Японии:',df['jp_sales'].max())\n",
    "print('***********************')\n",
    "print('Наименьшие продажи в остальных странах:',df['other_sales'].min())\n",
    "print('Наибольшие продажи в остальных странах:',df['other_sales'].max())\n",
    "print('***********************')\n",
    "print('Наименьшая оценка критиков:',df['critic_score'].min())\n",
    "print('Наибольшая оценка критиков:',df['critic_score'].max())\n",
    "print('***********************')\n",
    "#print('Наименьшая оценка пользователей:',df['user_score'].min())\n",
    "#print('Наибольшая оценка пользователей:',df['user_score'].max())\n",
    "print(df['user_score'].unique())\n",
    "print('***********************')\n",
    "print(df['rating'].unique())"
   ]
  },
  {
   "cell_type": "markdown",
   "metadata": {},
   "source": [
    "Неявных дубликато в столбцах platform, genre, critic_score и rating нет.\n",
    "Аномалий в остальных столбцах не выявлено.\n"
   ]
  },
  {
   "cell_type": "code",
   "execution_count": 6,
   "metadata": {
    "scrolled": false
   },
   "outputs": [
    {
     "name": "stdout",
     "output_type": "stream",
     "text": [
      "<class 'pandas.core.frame.DataFrame'>\n",
      "RangeIndex: 16715 entries, 0 to 16714\n",
      "Data columns (total 11 columns):\n",
      " #   Column           Non-Null Count  Dtype  \n",
      "---  ------           --------------  -----  \n",
      " 0   name             16713 non-null  object \n",
      " 1   platform         16715 non-null  object \n",
      " 2   year_of_release  16446 non-null  float64\n",
      " 3   genre            16713 non-null  object \n",
      " 4   na_sales         16715 non-null  float64\n",
      " 5   eu_sales         16715 non-null  float64\n",
      " 6   jp_sales         16715 non-null  float64\n",
      " 7   other_sales      16715 non-null  float64\n",
      " 8   critic_score     8137 non-null   float64\n",
      " 9   user_score       10014 non-null  object \n",
      " 10  rating           9949 non-null   object \n",
      "dtypes: float64(6), object(5)\n",
      "memory usage: 1.4+ MB\n"
     ]
    }
   ],
   "source": [
    "df.info()"
   ]
  },
  {
   "cell_type": "markdown",
   "metadata": {},
   "source": [
    "## Предобработка данных"
   ]
  },
  {
   "cell_type": "code",
   "execution_count": 7,
   "metadata": {},
   "outputs": [
    {
     "data": {
      "text/html": [
       "<div>\n",
       "<style scoped>\n",
       "    .dataframe tbody tr th:only-of-type {\n",
       "        vertical-align: middle;\n",
       "    }\n",
       "\n",
       "    .dataframe tbody tr th {\n",
       "        vertical-align: top;\n",
       "    }\n",
       "\n",
       "    .dataframe thead th {\n",
       "        text-align: right;\n",
       "    }\n",
       "</style>\n",
       "<table border=\"1\" class=\"dataframe\">\n",
       "  <thead>\n",
       "    <tr style=\"text-align: right;\">\n",
       "      <th></th>\n",
       "      <th>name</th>\n",
       "      <th>platform</th>\n",
       "      <th>year_of_release</th>\n",
       "      <th>genre</th>\n",
       "      <th>na_sales</th>\n",
       "      <th>eu_sales</th>\n",
       "      <th>jp_sales</th>\n",
       "      <th>other_sales</th>\n",
       "      <th>critic_score</th>\n",
       "      <th>user_score</th>\n",
       "      <th>rating</th>\n",
       "    </tr>\n",
       "  </thead>\n",
       "  <tbody>\n",
       "    <tr>\n",
       "      <th>659</th>\n",
       "      <td>NaN</td>\n",
       "      <td>GEN</td>\n",
       "      <td>1993.0</td>\n",
       "      <td>NaN</td>\n",
       "      <td>1.78</td>\n",
       "      <td>0.53</td>\n",
       "      <td>0.00</td>\n",
       "      <td>0.08</td>\n",
       "      <td>NaN</td>\n",
       "      <td>NaN</td>\n",
       "      <td>NaN</td>\n",
       "    </tr>\n",
       "    <tr>\n",
       "      <th>14244</th>\n",
       "      <td>NaN</td>\n",
       "      <td>GEN</td>\n",
       "      <td>1993.0</td>\n",
       "      <td>NaN</td>\n",
       "      <td>0.00</td>\n",
       "      <td>0.00</td>\n",
       "      <td>0.03</td>\n",
       "      <td>0.00</td>\n",
       "      <td>NaN</td>\n",
       "      <td>NaN</td>\n",
       "      <td>NaN</td>\n",
       "    </tr>\n",
       "  </tbody>\n",
       "</table>\n",
       "</div>"
      ],
      "text/plain": [
       "      name platform  year_of_release genre  na_sales  eu_sales  jp_sales  \\\n",
       "659    NaN      GEN           1993.0   NaN      1.78      0.53      0.00   \n",
       "14244  NaN      GEN           1993.0   NaN      0.00      0.00      0.03   \n",
       "\n",
       "       other_sales  critic_score user_score rating  \n",
       "659           0.08           NaN        NaN    NaN  \n",
       "14244         0.00           NaN        NaN    NaN  "
      ]
     },
     "metadata": {},
     "output_type": "display_data"
    },
    {
     "name": "stdout",
     "output_type": "stream",
     "text": [
      "<class 'pandas.core.frame.DataFrame'>\n",
      "RangeIndex: 16713 entries, 0 to 16712\n",
      "Data columns (total 11 columns):\n",
      " #   Column           Non-Null Count  Dtype  \n",
      "---  ------           --------------  -----  \n",
      " 0   name             16713 non-null  object \n",
      " 1   platform         16713 non-null  object \n",
      " 2   year_of_release  16444 non-null  float64\n",
      " 3   genre            16713 non-null  object \n",
      " 4   na_sales         16713 non-null  float64\n",
      " 5   eu_sales         16713 non-null  float64\n",
      " 6   jp_sales         16713 non-null  float64\n",
      " 7   other_sales      16713 non-null  float64\n",
      " 8   critic_score     8137 non-null   float64\n",
      " 9   user_score       10014 non-null  object \n",
      " 10  rating           9949 non-null   object \n",
      "dtypes: float64(6), object(5)\n",
      "memory usage: 1.4+ MB\n"
     ]
    }
   ],
   "source": [
    "#удалим 2 строки с проусками в столбце 'name', предварительно изучив их.\n",
    "\n",
    "display(df[df['name'].isna()])\n",
    "df = df.dropna(subset = ['name']).reset_index(drop=True)\n",
    "df.info()"
   ]
  },
  {
   "cell_type": "markdown",
   "metadata": {},
   "source": [
    "Из 16715 позиций у двух позиций отсутствует название игры, жанр, оценка критиков и пользователей, а также рейтинг. Считаю, что мы без зазрения совести, можем удалить эти две строки."
   ]
  },
  {
   "cell_type": "code",
   "execution_count": 8,
   "metadata": {},
   "outputs": [
    {
     "data": {
      "text/html": [
       "<div>\n",
       "<style scoped>\n",
       "    .dataframe tbody tr th:only-of-type {\n",
       "        vertical-align: middle;\n",
       "    }\n",
       "\n",
       "    .dataframe tbody tr th {\n",
       "        vertical-align: top;\n",
       "    }\n",
       "\n",
       "    .dataframe thead th {\n",
       "        text-align: right;\n",
       "    }\n",
       "</style>\n",
       "<table border=\"1\" class=\"dataframe\">\n",
       "  <thead>\n",
       "    <tr style=\"text-align: right;\">\n",
       "      <th></th>\n",
       "      <th>name</th>\n",
       "      <th>platform</th>\n",
       "      <th>year_of_release</th>\n",
       "      <th>genre</th>\n",
       "      <th>na_sales</th>\n",
       "      <th>eu_sales</th>\n",
       "      <th>jp_sales</th>\n",
       "      <th>other_sales</th>\n",
       "      <th>critic_score</th>\n",
       "      <th>user_score</th>\n",
       "      <th>rating</th>\n",
       "    </tr>\n",
       "  </thead>\n",
       "  <tbody>\n",
       "    <tr>\n",
       "      <th>456</th>\n",
       "      <td>LEGO Batman: The Videogame</td>\n",
       "      <td>Wii</td>\n",
       "      <td>NaN</td>\n",
       "      <td>Action</td>\n",
       "      <td>1.80</td>\n",
       "      <td>0.97</td>\n",
       "      <td>0.0</td>\n",
       "      <td>0.29</td>\n",
       "      <td>74.0</td>\n",
       "      <td>7.9</td>\n",
       "      <td>E10+</td>\n",
       "    </tr>\n",
       "    <tr>\n",
       "      <th>677</th>\n",
       "      <td>LEGO Indiana Jones: The Original Adventures</td>\n",
       "      <td>Wii</td>\n",
       "      <td>NaN</td>\n",
       "      <td>Action</td>\n",
       "      <td>1.51</td>\n",
       "      <td>0.61</td>\n",
       "      <td>0.0</td>\n",
       "      <td>0.21</td>\n",
       "      <td>78.0</td>\n",
       "      <td>6.6</td>\n",
       "      <td>E10+</td>\n",
       "    </tr>\n",
       "    <tr>\n",
       "      <th>718</th>\n",
       "      <td>Call of Duty 3</td>\n",
       "      <td>Wii</td>\n",
       "      <td>NaN</td>\n",
       "      <td>Shooter</td>\n",
       "      <td>1.17</td>\n",
       "      <td>0.84</td>\n",
       "      <td>0.0</td>\n",
       "      <td>0.23</td>\n",
       "      <td>69.0</td>\n",
       "      <td>6.7</td>\n",
       "      <td>T</td>\n",
       "    </tr>\n",
       "    <tr>\n",
       "      <th>804</th>\n",
       "      <td>Rock Band</td>\n",
       "      <td>Wii</td>\n",
       "      <td>NaN</td>\n",
       "      <td>Misc</td>\n",
       "      <td>1.33</td>\n",
       "      <td>0.56</td>\n",
       "      <td>0.0</td>\n",
       "      <td>0.20</td>\n",
       "      <td>80.0</td>\n",
       "      <td>6.3</td>\n",
       "      <td>T</td>\n",
       "    </tr>\n",
       "    <tr>\n",
       "      <th>1130</th>\n",
       "      <td>Call of Duty: Black Ops</td>\n",
       "      <td>PC</td>\n",
       "      <td>NaN</td>\n",
       "      <td>Shooter</td>\n",
       "      <td>0.58</td>\n",
       "      <td>0.81</td>\n",
       "      <td>0.0</td>\n",
       "      <td>0.23</td>\n",
       "      <td>81.0</td>\n",
       "      <td>5.2</td>\n",
       "      <td>M</td>\n",
       "    </tr>\n",
       "    <tr>\n",
       "      <th>...</th>\n",
       "      <td>...</td>\n",
       "      <td>...</td>\n",
       "      <td>...</td>\n",
       "      <td>...</td>\n",
       "      <td>...</td>\n",
       "      <td>...</td>\n",
       "      <td>...</td>\n",
       "      <td>...</td>\n",
       "      <td>...</td>\n",
       "      <td>...</td>\n",
       "      <td>...</td>\n",
       "    </tr>\n",
       "    <tr>\n",
       "      <th>16327</th>\n",
       "      <td>Brothers in Arms: Furious 4</td>\n",
       "      <td>X360</td>\n",
       "      <td>NaN</td>\n",
       "      <td>Shooter</td>\n",
       "      <td>0.01</td>\n",
       "      <td>0.00</td>\n",
       "      <td>0.0</td>\n",
       "      <td>0.00</td>\n",
       "      <td>NaN</td>\n",
       "      <td>NaN</td>\n",
       "      <td>M</td>\n",
       "    </tr>\n",
       "    <tr>\n",
       "      <th>16371</th>\n",
       "      <td>PDC World Championship Darts 2008</td>\n",
       "      <td>PSP</td>\n",
       "      <td>NaN</td>\n",
       "      <td>Sports</td>\n",
       "      <td>0.01</td>\n",
       "      <td>0.00</td>\n",
       "      <td>0.0</td>\n",
       "      <td>0.00</td>\n",
       "      <td>43.0</td>\n",
       "      <td>tbd</td>\n",
       "      <td>E10+</td>\n",
       "    </tr>\n",
       "    <tr>\n",
       "      <th>16403</th>\n",
       "      <td>Freaky Flyers</td>\n",
       "      <td>GC</td>\n",
       "      <td>NaN</td>\n",
       "      <td>Racing</td>\n",
       "      <td>0.01</td>\n",
       "      <td>0.00</td>\n",
       "      <td>0.0</td>\n",
       "      <td>0.00</td>\n",
       "      <td>69.0</td>\n",
       "      <td>6.5</td>\n",
       "      <td>T</td>\n",
       "    </tr>\n",
       "    <tr>\n",
       "      <th>16446</th>\n",
       "      <td>Inversion</td>\n",
       "      <td>PC</td>\n",
       "      <td>NaN</td>\n",
       "      <td>Shooter</td>\n",
       "      <td>0.01</td>\n",
       "      <td>0.00</td>\n",
       "      <td>0.0</td>\n",
       "      <td>0.00</td>\n",
       "      <td>59.0</td>\n",
       "      <td>6.7</td>\n",
       "      <td>M</td>\n",
       "    </tr>\n",
       "    <tr>\n",
       "      <th>16520</th>\n",
       "      <td>Virtua Quest</td>\n",
       "      <td>GC</td>\n",
       "      <td>NaN</td>\n",
       "      <td>Role-Playing</td>\n",
       "      <td>0.01</td>\n",
       "      <td>0.00</td>\n",
       "      <td>0.0</td>\n",
       "      <td>0.00</td>\n",
       "      <td>55.0</td>\n",
       "      <td>5.5</td>\n",
       "      <td>T</td>\n",
       "    </tr>\n",
       "  </tbody>\n",
       "</table>\n",
       "<p>105 rows × 11 columns</p>\n",
       "</div>"
      ],
      "text/plain": [
       "                                              name platform  year_of_release  \\\n",
       "456                     LEGO Batman: The Videogame      Wii              NaN   \n",
       "677    LEGO Indiana Jones: The Original Adventures      Wii              NaN   \n",
       "718                                 Call of Duty 3      Wii              NaN   \n",
       "804                                      Rock Band      Wii              NaN   \n",
       "1130                       Call of Duty: Black Ops       PC              NaN   \n",
       "...                                            ...      ...              ...   \n",
       "16327                  Brothers in Arms: Furious 4     X360              NaN   \n",
       "16371            PDC World Championship Darts 2008      PSP              NaN   \n",
       "16403                                Freaky Flyers       GC              NaN   \n",
       "16446                                    Inversion       PC              NaN   \n",
       "16520                                 Virtua Quest       GC              NaN   \n",
       "\n",
       "              genre  na_sales  eu_sales  jp_sales  other_sales  critic_score  \\\n",
       "456          Action      1.80      0.97       0.0         0.29          74.0   \n",
       "677          Action      1.51      0.61       0.0         0.21          78.0   \n",
       "718         Shooter      1.17      0.84       0.0         0.23          69.0   \n",
       "804            Misc      1.33      0.56       0.0         0.20          80.0   \n",
       "1130        Shooter      0.58      0.81       0.0         0.23          81.0   \n",
       "...             ...       ...       ...       ...          ...           ...   \n",
       "16327       Shooter      0.01      0.00       0.0         0.00           NaN   \n",
       "16371        Sports      0.01      0.00       0.0         0.00          43.0   \n",
       "16403        Racing      0.01      0.00       0.0         0.00          69.0   \n",
       "16446       Shooter      0.01      0.00       0.0         0.00          59.0   \n",
       "16520  Role-Playing      0.01      0.00       0.0         0.00          55.0   \n",
       "\n",
       "      user_score rating  \n",
       "456          7.9   E10+  \n",
       "677          6.6   E10+  \n",
       "718          6.7      T  \n",
       "804          6.3      T  \n",
       "1130         5.2      M  \n",
       "...          ...    ...  \n",
       "16327        NaN      M  \n",
       "16371        tbd   E10+  \n",
       "16403        6.5      T  \n",
       "16446        6.7      M  \n",
       "16520        5.5      T  \n",
       "\n",
       "[105 rows x 11 columns]"
      ]
     },
     "metadata": {},
     "output_type": "display_data"
    },
    {
     "data": {
      "text/html": [
       "<div>\n",
       "<style scoped>\n",
       "    .dataframe tbody tr th:only-of-type {\n",
       "        vertical-align: middle;\n",
       "    }\n",
       "\n",
       "    .dataframe tbody tr th {\n",
       "        vertical-align: top;\n",
       "    }\n",
       "\n",
       "    .dataframe thead th {\n",
       "        text-align: right;\n",
       "    }\n",
       "</style>\n",
       "<table border=\"1\" class=\"dataframe\">\n",
       "  <thead>\n",
       "    <tr style=\"text-align: right;\">\n",
       "      <th></th>\n",
       "      <th>name</th>\n",
       "      <th>platform</th>\n",
       "      <th>year_of_release</th>\n",
       "      <th>genre</th>\n",
       "      <th>na_sales</th>\n",
       "      <th>eu_sales</th>\n",
       "      <th>jp_sales</th>\n",
       "      <th>other_sales</th>\n",
       "      <th>critic_score</th>\n",
       "      <th>user_score</th>\n",
       "      <th>rating</th>\n",
       "    </tr>\n",
       "  </thead>\n",
       "  <tbody>\n",
       "    <tr>\n",
       "      <th>557</th>\n",
       "      <td>Call of Duty 3</td>\n",
       "      <td>X360</td>\n",
       "      <td>2006.0</td>\n",
       "      <td>Shooter</td>\n",
       "      <td>1.49</td>\n",
       "      <td>0.92</td>\n",
       "      <td>0.02</td>\n",
       "      <td>0.27</td>\n",
       "      <td>82.0</td>\n",
       "      <td>6.5</td>\n",
       "      <td>T</td>\n",
       "    </tr>\n",
       "    <tr>\n",
       "      <th>718</th>\n",
       "      <td>Call of Duty 3</td>\n",
       "      <td>Wii</td>\n",
       "      <td>NaN</td>\n",
       "      <td>Shooter</td>\n",
       "      <td>1.17</td>\n",
       "      <td>0.84</td>\n",
       "      <td>0.00</td>\n",
       "      <td>0.23</td>\n",
       "      <td>69.0</td>\n",
       "      <td>6.7</td>\n",
       "      <td>T</td>\n",
       "    </tr>\n",
       "    <tr>\n",
       "      <th>1254</th>\n",
       "      <td>Call of Duty 3</td>\n",
       "      <td>PS3</td>\n",
       "      <td>2006.0</td>\n",
       "      <td>Shooter</td>\n",
       "      <td>0.60</td>\n",
       "      <td>0.62</td>\n",
       "      <td>0.03</td>\n",
       "      <td>0.26</td>\n",
       "      <td>80.0</td>\n",
       "      <td>6.9</td>\n",
       "      <td>T</td>\n",
       "    </tr>\n",
       "    <tr>\n",
       "      <th>1914</th>\n",
       "      <td>Call of Duty 3</td>\n",
       "      <td>PS2</td>\n",
       "      <td>2006.0</td>\n",
       "      <td>Shooter</td>\n",
       "      <td>0.89</td>\n",
       "      <td>0.03</td>\n",
       "      <td>0.00</td>\n",
       "      <td>0.15</td>\n",
       "      <td>82.0</td>\n",
       "      <td>7.4</td>\n",
       "      <td>T</td>\n",
       "    </tr>\n",
       "  </tbody>\n",
       "</table>\n",
       "</div>"
      ],
      "text/plain": [
       "                name platform  year_of_release    genre  na_sales  eu_sales  \\\n",
       "557   Call of Duty 3     X360           2006.0  Shooter      1.49      0.92   \n",
       "718   Call of Duty 3      Wii              NaN  Shooter      1.17      0.84   \n",
       "1254  Call of Duty 3      PS3           2006.0  Shooter      0.60      0.62   \n",
       "1914  Call of Duty 3      PS2           2006.0  Shooter      0.89      0.03   \n",
       "\n",
       "      jp_sales  other_sales  critic_score user_score rating  \n",
       "557       0.02         0.27          82.0        6.5      T  \n",
       "718       0.00         0.23          69.0        6.7      T  \n",
       "1254      0.03         0.26          80.0        6.9      T  \n",
       "1914      0.00         0.15          82.0        7.4      T  "
      ]
     },
     "metadata": {},
     "output_type": "display_data"
    },
    {
     "data": {
      "text/plain": [
       "Madden NFL 07                                  8\n",
       "LEGO Indiana Jones: The Original Adventures    6\n",
       "Madden NFL 06                                  6\n",
       "LEGO Batman: The Videogame                     5\n",
       "Tiger Woods PGA Tour 07                        5\n",
       "                                              ..\n",
       "AKB1/48: Idol to Guam de Koishitara...         1\n",
       "World of Tanks                                 1\n",
       "Bejeweled 3                                    1\n",
       "PDC World Championship Darts 2008              1\n",
       "Danganronpa: Trigger Happy Havoc               1\n",
       "Name: name, Length: 75, dtype: int64"
      ]
     },
     "execution_count": 8,
     "metadata": {},
     "output_type": "execute_result"
    }
   ],
   "source": [
    "#Изучим пропуски в столбце \"year_of_release\"\n",
    "display(df[(df['year_of_release'].isna())&(df['name'].duplicated())])\n",
    "display(df.query('name == \"Call of Duty 3\"'))\n",
    "game_without_year = df[(df['year_of_release'].isna())&(df['name'].duplicated())]['name'].unique()\n",
    "df.query('name in @game_without_year and year_of_release.notna()')['name'].value_counts()"
   ]
  },
  {
   "cell_type": "markdown",
   "metadata": {},
   "source": [
    "По 75 играм мы можем заменить пропуски годами из других строк по соответстующим играм."
   ]
  },
  {
   "cell_type": "code",
   "execution_count": 9,
   "metadata": {},
   "outputs": [
    {
     "data": {
      "text/html": [
       "<div>\n",
       "<style scoped>\n",
       "    .dataframe tbody tr th:only-of-type {\n",
       "        vertical-align: middle;\n",
       "    }\n",
       "\n",
       "    .dataframe tbody tr th {\n",
       "        vertical-align: top;\n",
       "    }\n",
       "\n",
       "    .dataframe thead th {\n",
       "        text-align: right;\n",
       "    }\n",
       "</style>\n",
       "<table border=\"1\" class=\"dataframe\">\n",
       "  <thead>\n",
       "    <tr style=\"text-align: right;\">\n",
       "      <th></th>\n",
       "      <th>name</th>\n",
       "      <th>platform</th>\n",
       "      <th>year_of_release</th>\n",
       "      <th>genre</th>\n",
       "      <th>na_sales</th>\n",
       "      <th>eu_sales</th>\n",
       "      <th>jp_sales</th>\n",
       "      <th>other_sales</th>\n",
       "      <th>critic_score</th>\n",
       "      <th>user_score</th>\n",
       "      <th>rating</th>\n",
       "    </tr>\n",
       "  </thead>\n",
       "  <tbody>\n",
       "    <tr>\n",
       "      <th>557</th>\n",
       "      <td>Call of Duty 3</td>\n",
       "      <td>X360</td>\n",
       "      <td>2006.0</td>\n",
       "      <td>Shooter</td>\n",
       "      <td>1.49</td>\n",
       "      <td>0.92</td>\n",
       "      <td>0.02</td>\n",
       "      <td>0.27</td>\n",
       "      <td>82.0</td>\n",
       "      <td>6.5</td>\n",
       "      <td>T</td>\n",
       "    </tr>\n",
       "    <tr>\n",
       "      <th>718</th>\n",
       "      <td>Call of Duty 3</td>\n",
       "      <td>Wii</td>\n",
       "      <td>2006.0</td>\n",
       "      <td>Shooter</td>\n",
       "      <td>1.17</td>\n",
       "      <td>0.84</td>\n",
       "      <td>0.00</td>\n",
       "      <td>0.23</td>\n",
       "      <td>69.0</td>\n",
       "      <td>6.7</td>\n",
       "      <td>T</td>\n",
       "    </tr>\n",
       "    <tr>\n",
       "      <th>1254</th>\n",
       "      <td>Call of Duty 3</td>\n",
       "      <td>PS3</td>\n",
       "      <td>2006.0</td>\n",
       "      <td>Shooter</td>\n",
       "      <td>0.60</td>\n",
       "      <td>0.62</td>\n",
       "      <td>0.03</td>\n",
       "      <td>0.26</td>\n",
       "      <td>80.0</td>\n",
       "      <td>6.9</td>\n",
       "      <td>T</td>\n",
       "    </tr>\n",
       "    <tr>\n",
       "      <th>1914</th>\n",
       "      <td>Call of Duty 3</td>\n",
       "      <td>PS2</td>\n",
       "      <td>2006.0</td>\n",
       "      <td>Shooter</td>\n",
       "      <td>0.89</td>\n",
       "      <td>0.03</td>\n",
       "      <td>0.00</td>\n",
       "      <td>0.15</td>\n",
       "      <td>82.0</td>\n",
       "      <td>7.4</td>\n",
       "      <td>T</td>\n",
       "    </tr>\n",
       "  </tbody>\n",
       "</table>\n",
       "</div>"
      ],
      "text/plain": [
       "                name platform  year_of_release    genre  na_sales  eu_sales  \\\n",
       "557   Call of Duty 3     X360           2006.0  Shooter      1.49      0.92   \n",
       "718   Call of Duty 3      Wii           2006.0  Shooter      1.17      0.84   \n",
       "1254  Call of Duty 3      PS3           2006.0  Shooter      0.60      0.62   \n",
       "1914  Call of Duty 3      PS2           2006.0  Shooter      0.89      0.03   \n",
       "\n",
       "      jp_sales  other_sales  critic_score user_score rating  \n",
       "557       0.02         0.27          82.0        6.5      T  \n",
       "718       0.00         0.23          69.0        6.7      T  \n",
       "1254      0.03         0.26          80.0        6.9      T  \n",
       "1914      0.00         0.15          82.0        7.4      T  "
      ]
     },
     "metadata": {},
     "output_type": "display_data"
    },
    {
     "name": "stdout",
     "output_type": "stream",
     "text": [
      "<class 'pandas.core.frame.DataFrame'>\n",
      "RangeIndex: 16713 entries, 0 to 16712\n",
      "Data columns (total 11 columns):\n",
      " #   Column           Non-Null Count  Dtype  \n",
      "---  ------           --------------  -----  \n",
      " 0   name             16713 non-null  object \n",
      " 1   platform         16713 non-null  object \n",
      " 2   year_of_release  16567 non-null  float64\n",
      " 3   genre            16713 non-null  object \n",
      " 4   na_sales         16713 non-null  float64\n",
      " 5   eu_sales         16713 non-null  float64\n",
      " 6   jp_sales         16713 non-null  float64\n",
      " 7   other_sales      16713 non-null  float64\n",
      " 8   critic_score     8137 non-null   float64\n",
      " 9   user_score       10014 non-null  object \n",
      " 10  rating           9949 non-null   object \n",
      "dtypes: float64(6), object(5)\n",
      "memory usage: 1.4+ MB\n",
      "\n",
      "Процент пропусков в столбце года: 0.8735714713097589 %\n",
      "\n",
      "<class 'pandas.core.frame.DataFrame'>\n",
      "RangeIndex: 16567 entries, 0 to 16566\n",
      "Data columns (total 11 columns):\n",
      " #   Column           Non-Null Count  Dtype  \n",
      "---  ------           --------------  -----  \n",
      " 0   name             16567 non-null  object \n",
      " 1   platform         16567 non-null  object \n",
      " 2   year_of_release  16567 non-null  float64\n",
      " 3   genre            16567 non-null  object \n",
      " 4   na_sales         16567 non-null  float64\n",
      " 5   eu_sales         16567 non-null  float64\n",
      " 6   jp_sales         16567 non-null  float64\n",
      " 7   other_sales      16567 non-null  float64\n",
      " 8   critic_score     8075 non-null   float64\n",
      " 9   user_score       9934 non-null   object \n",
      " 10  rating           9868 non-null   object \n",
      "dtypes: float64(6), object(5)\n",
      "memory usage: 1.4+ MB\n"
     ]
    }
   ],
   "source": [
    "year_group = df.groupby('name')['year_of_release'].transform('median')\n",
    "df.loc[df['year_of_release'].isna(),'year_of_release'] = year_group\n",
    "display(df.query('name == \"Call of Duty 3\"'))\n",
    "df.info()\n",
    "print('')\n",
    "print('Процент пропусков в столбце года:',len(df[df['year_of_release'].isna()])/len(df)*100, '%')\n",
    "print('')\n",
    "df = df.dropna(subset=['year_of_release']).reset_index(drop=True)\n",
    "df.info()"
   ]
  },
  {
   "cell_type": "markdown",
   "metadata": {},
   "source": [
    "Мы заменили пропуски на соответствующие года по данным играм. Процент незаполненных значений составил меньше 1%. Мы можем беспрепятственно удалить эти пропуски. Теперь у нас не осталось пропусков и можно поменять тип данных на целые числа."
   ]
  },
  {
   "cell_type": "code",
   "execution_count": 10,
   "metadata": {},
   "outputs": [
    {
     "name": "stdout",
     "output_type": "stream",
     "text": [
      "<class 'pandas.core.frame.DataFrame'>\n",
      "RangeIndex: 16567 entries, 0 to 16566\n",
      "Data columns (total 11 columns):\n",
      " #   Column           Non-Null Count  Dtype  \n",
      "---  ------           --------------  -----  \n",
      " 0   name             16567 non-null  object \n",
      " 1   platform         16567 non-null  object \n",
      " 2   year_of_release  16567 non-null  int64  \n",
      " 3   genre            16567 non-null  object \n",
      " 4   na_sales         16567 non-null  float64\n",
      " 5   eu_sales         16567 non-null  float64\n",
      " 6   jp_sales         16567 non-null  float64\n",
      " 7   other_sales      16567 non-null  float64\n",
      " 8   critic_score     8075 non-null   float64\n",
      " 9   user_score       9934 non-null   object \n",
      " 10  rating           9868 non-null   object \n",
      "dtypes: float64(5), int64(1), object(5)\n",
      "memory usage: 1.4+ MB\n"
     ]
    }
   ],
   "source": [
    "df['year_of_release'] = df['year_of_release'].astype('int')\n",
    "df.info()"
   ]
  },
  {
   "cell_type": "markdown",
   "metadata": {},
   "source": [
    "По аналогии заменим пропущенные значения в столбце critic_score и user_score. Но заменять будем на средние значения по одной игре на разных платформах."
   ]
  },
  {
   "cell_type": "code",
   "execution_count": 11,
   "metadata": {},
   "outputs": [
    {
     "data": {
      "text/html": [
       "<div>\n",
       "<style scoped>\n",
       "    .dataframe tbody tr th:only-of-type {\n",
       "        vertical-align: middle;\n",
       "    }\n",
       "\n",
       "    .dataframe tbody tr th {\n",
       "        vertical-align: top;\n",
       "    }\n",
       "\n",
       "    .dataframe thead th {\n",
       "        text-align: right;\n",
       "    }\n",
       "</style>\n",
       "<table border=\"1\" class=\"dataframe\">\n",
       "  <thead>\n",
       "    <tr style=\"text-align: right;\">\n",
       "      <th></th>\n",
       "      <th>name</th>\n",
       "      <th>platform</th>\n",
       "      <th>year_of_release</th>\n",
       "      <th>genre</th>\n",
       "      <th>na_sales</th>\n",
       "      <th>eu_sales</th>\n",
       "      <th>jp_sales</th>\n",
       "      <th>other_sales</th>\n",
       "      <th>critic_score</th>\n",
       "      <th>user_score</th>\n",
       "      <th>rating</th>\n",
       "    </tr>\n",
       "  </thead>\n",
       "  <tbody>\n",
       "    <tr>\n",
       "      <th>0</th>\n",
       "      <td>Wii Sports</td>\n",
       "      <td>Wii</td>\n",
       "      <td>2006</td>\n",
       "      <td>Sports</td>\n",
       "      <td>41.36</td>\n",
       "      <td>28.96</td>\n",
       "      <td>3.77</td>\n",
       "      <td>8.45</td>\n",
       "      <td>76.0</td>\n",
       "      <td>8</td>\n",
       "      <td>E</td>\n",
       "    </tr>\n",
       "    <tr>\n",
       "      <th>1</th>\n",
       "      <td>Super Mario Bros.</td>\n",
       "      <td>NES</td>\n",
       "      <td>1985</td>\n",
       "      <td>Platform</td>\n",
       "      <td>29.08</td>\n",
       "      <td>3.58</td>\n",
       "      <td>6.81</td>\n",
       "      <td>0.77</td>\n",
       "      <td>NaN</td>\n",
       "      <td>NaN</td>\n",
       "      <td>NaN</td>\n",
       "    </tr>\n",
       "    <tr>\n",
       "      <th>2</th>\n",
       "      <td>Mario Kart Wii</td>\n",
       "      <td>Wii</td>\n",
       "      <td>2008</td>\n",
       "      <td>Racing</td>\n",
       "      <td>15.68</td>\n",
       "      <td>12.76</td>\n",
       "      <td>3.79</td>\n",
       "      <td>3.29</td>\n",
       "      <td>82.0</td>\n",
       "      <td>8.3</td>\n",
       "      <td>E</td>\n",
       "    </tr>\n",
       "    <tr>\n",
       "      <th>3</th>\n",
       "      <td>Wii Sports Resort</td>\n",
       "      <td>Wii</td>\n",
       "      <td>2009</td>\n",
       "      <td>Sports</td>\n",
       "      <td>15.61</td>\n",
       "      <td>10.93</td>\n",
       "      <td>3.28</td>\n",
       "      <td>2.95</td>\n",
       "      <td>80.0</td>\n",
       "      <td>8</td>\n",
       "      <td>E</td>\n",
       "    </tr>\n",
       "    <tr>\n",
       "      <th>4</th>\n",
       "      <td>Pokemon Red/Pokemon Blue</td>\n",
       "      <td>GB</td>\n",
       "      <td>1996</td>\n",
       "      <td>Role-Playing</td>\n",
       "      <td>11.27</td>\n",
       "      <td>8.89</td>\n",
       "      <td>10.22</td>\n",
       "      <td>1.00</td>\n",
       "      <td>NaN</td>\n",
       "      <td>NaN</td>\n",
       "      <td>NaN</td>\n",
       "    </tr>\n",
       "    <tr>\n",
       "      <th>5</th>\n",
       "      <td>Tetris</td>\n",
       "      <td>GB</td>\n",
       "      <td>1989</td>\n",
       "      <td>Puzzle</td>\n",
       "      <td>23.20</td>\n",
       "      <td>2.26</td>\n",
       "      <td>4.22</td>\n",
       "      <td>0.58</td>\n",
       "      <td>NaN</td>\n",
       "      <td>NaN</td>\n",
       "      <td>NaN</td>\n",
       "    </tr>\n",
       "    <tr>\n",
       "      <th>6</th>\n",
       "      <td>New Super Mario Bros.</td>\n",
       "      <td>DS</td>\n",
       "      <td>2006</td>\n",
       "      <td>Platform</td>\n",
       "      <td>11.28</td>\n",
       "      <td>9.14</td>\n",
       "      <td>6.50</td>\n",
       "      <td>2.88</td>\n",
       "      <td>89.0</td>\n",
       "      <td>8.5</td>\n",
       "      <td>E</td>\n",
       "    </tr>\n",
       "    <tr>\n",
       "      <th>7</th>\n",
       "      <td>Wii Play</td>\n",
       "      <td>Wii</td>\n",
       "      <td>2006</td>\n",
       "      <td>Misc</td>\n",
       "      <td>13.96</td>\n",
       "      <td>9.18</td>\n",
       "      <td>2.93</td>\n",
       "      <td>2.84</td>\n",
       "      <td>58.0</td>\n",
       "      <td>6.6</td>\n",
       "      <td>E</td>\n",
       "    </tr>\n",
       "    <tr>\n",
       "      <th>8</th>\n",
       "      <td>New Super Mario Bros. Wii</td>\n",
       "      <td>Wii</td>\n",
       "      <td>2009</td>\n",
       "      <td>Platform</td>\n",
       "      <td>14.44</td>\n",
       "      <td>6.94</td>\n",
       "      <td>4.70</td>\n",
       "      <td>2.24</td>\n",
       "      <td>87.0</td>\n",
       "      <td>8.4</td>\n",
       "      <td>E</td>\n",
       "    </tr>\n",
       "    <tr>\n",
       "      <th>9</th>\n",
       "      <td>Duck Hunt</td>\n",
       "      <td>NES</td>\n",
       "      <td>1984</td>\n",
       "      <td>Shooter</td>\n",
       "      <td>26.93</td>\n",
       "      <td>0.63</td>\n",
       "      <td>0.28</td>\n",
       "      <td>0.47</td>\n",
       "      <td>NaN</td>\n",
       "      <td>NaN</td>\n",
       "      <td>NaN</td>\n",
       "    </tr>\n",
       "  </tbody>\n",
       "</table>\n",
       "</div>"
      ],
      "text/plain": [
       "                        name platform  year_of_release         genre  \\\n",
       "0                 Wii Sports      Wii             2006        Sports   \n",
       "1          Super Mario Bros.      NES             1985      Platform   \n",
       "2             Mario Kart Wii      Wii             2008        Racing   \n",
       "3          Wii Sports Resort      Wii             2009        Sports   \n",
       "4   Pokemon Red/Pokemon Blue       GB             1996  Role-Playing   \n",
       "5                     Tetris       GB             1989        Puzzle   \n",
       "6      New Super Mario Bros.       DS             2006      Platform   \n",
       "7                   Wii Play      Wii             2006          Misc   \n",
       "8  New Super Mario Bros. Wii      Wii             2009      Platform   \n",
       "9                  Duck Hunt      NES             1984       Shooter   \n",
       "\n",
       "   na_sales  eu_sales  jp_sales  other_sales  critic_score user_score rating  \n",
       "0     41.36     28.96      3.77         8.45          76.0          8      E  \n",
       "1     29.08      3.58      6.81         0.77           NaN        NaN    NaN  \n",
       "2     15.68     12.76      3.79         3.29          82.0        8.3      E  \n",
       "3     15.61     10.93      3.28         2.95          80.0          8      E  \n",
       "4     11.27      8.89     10.22         1.00           NaN        NaN    NaN  \n",
       "5     23.20      2.26      4.22         0.58           NaN        NaN    NaN  \n",
       "6     11.28      9.14      6.50         2.88          89.0        8.5      E  \n",
       "7     13.96      9.18      2.93         2.84          58.0        6.6      E  \n",
       "8     14.44      6.94      4.70         2.24          87.0        8.4      E  \n",
       "9     26.93      0.63      0.28         0.47           NaN        NaN    NaN  "
      ]
     },
     "execution_count": 11,
     "metadata": {},
     "output_type": "execute_result"
    }
   ],
   "source": [
    "critic_group = df.groupby('name')['critic_score'].transform('mean')\n",
    "df.loc[df['critic_score'].isna(),'critic_score'] = critic_group\n",
    "df.head(10)"
   ]
  },
  {
   "cell_type": "markdown",
   "metadata": {},
   "source": [
    "\"To be discussed\" пишут, когда игра ещё не вышла, по этому оценок пользователей пока нет. Но в нашей таблице игры разных годов имеют такое значение. Соответственно можем считать, что данных по пользовательской оценки нет. Заменим их на пропуски."
   ]
  },
  {
   "cell_type": "code",
   "execution_count": 12,
   "metadata": {},
   "outputs": [
    {
     "data": {
      "text/html": [
       "<div>\n",
       "<style scoped>\n",
       "    .dataframe tbody tr th:only-of-type {\n",
       "        vertical-align: middle;\n",
       "    }\n",
       "\n",
       "    .dataframe tbody tr th {\n",
       "        vertical-align: top;\n",
       "    }\n",
       "\n",
       "    .dataframe thead th {\n",
       "        text-align: right;\n",
       "    }\n",
       "</style>\n",
       "<table border=\"1\" class=\"dataframe\">\n",
       "  <thead>\n",
       "    <tr style=\"text-align: right;\">\n",
       "      <th></th>\n",
       "      <th>name</th>\n",
       "      <th>platform</th>\n",
       "      <th>year_of_release</th>\n",
       "      <th>genre</th>\n",
       "      <th>na_sales</th>\n",
       "      <th>eu_sales</th>\n",
       "      <th>jp_sales</th>\n",
       "      <th>other_sales</th>\n",
       "      <th>critic_score</th>\n",
       "      <th>user_score</th>\n",
       "      <th>rating</th>\n",
       "    </tr>\n",
       "  </thead>\n",
       "  <tbody>\n",
       "    <tr>\n",
       "      <th>119</th>\n",
       "      <td>Zumba Fitness</td>\n",
       "      <td>Wii</td>\n",
       "      <td>2010</td>\n",
       "      <td>Sports</td>\n",
       "      <td>3.45</td>\n",
       "      <td>2.59</td>\n",
       "      <td>0.0</td>\n",
       "      <td>0.66</td>\n",
       "      <td>42.0</td>\n",
       "      <td>tbd</td>\n",
       "      <td>E</td>\n",
       "    </tr>\n",
       "    <tr>\n",
       "      <th>301</th>\n",
       "      <td>Namco Museum: 50th Anniversary</td>\n",
       "      <td>PS2</td>\n",
       "      <td>2005</td>\n",
       "      <td>Misc</td>\n",
       "      <td>2.08</td>\n",
       "      <td>1.35</td>\n",
       "      <td>0.0</td>\n",
       "      <td>0.54</td>\n",
       "      <td>61.0</td>\n",
       "      <td>tbd</td>\n",
       "      <td>E10+</td>\n",
       "    </tr>\n",
       "    <tr>\n",
       "      <th>519</th>\n",
       "      <td>Zumba Fitness 2</td>\n",
       "      <td>Wii</td>\n",
       "      <td>2011</td>\n",
       "      <td>Sports</td>\n",
       "      <td>1.51</td>\n",
       "      <td>1.03</td>\n",
       "      <td>0.0</td>\n",
       "      <td>0.27</td>\n",
       "      <td>NaN</td>\n",
       "      <td>tbd</td>\n",
       "      <td>T</td>\n",
       "    </tr>\n",
       "    <tr>\n",
       "      <th>643</th>\n",
       "      <td>uDraw Studio</td>\n",
       "      <td>Wii</td>\n",
       "      <td>2010</td>\n",
       "      <td>Misc</td>\n",
       "      <td>1.65</td>\n",
       "      <td>0.57</td>\n",
       "      <td>0.0</td>\n",
       "      <td>0.20</td>\n",
       "      <td>71.0</td>\n",
       "      <td>tbd</td>\n",
       "      <td>E</td>\n",
       "    </tr>\n",
       "    <tr>\n",
       "      <th>714</th>\n",
       "      <td>Just Dance Kids</td>\n",
       "      <td>Wii</td>\n",
       "      <td>2010</td>\n",
       "      <td>Misc</td>\n",
       "      <td>1.52</td>\n",
       "      <td>0.54</td>\n",
       "      <td>0.0</td>\n",
       "      <td>0.18</td>\n",
       "      <td>NaN</td>\n",
       "      <td>tbd</td>\n",
       "      <td>E</td>\n",
       "    </tr>\n",
       "    <tr>\n",
       "      <th>...</th>\n",
       "      <td>...</td>\n",
       "      <td>...</td>\n",
       "      <td>...</td>\n",
       "      <td>...</td>\n",
       "      <td>...</td>\n",
       "      <td>...</td>\n",
       "      <td>...</td>\n",
       "      <td>...</td>\n",
       "      <td>...</td>\n",
       "      <td>...</td>\n",
       "      <td>...</td>\n",
       "    </tr>\n",
       "    <tr>\n",
       "      <th>16547</th>\n",
       "      <td>Planet Monsters</td>\n",
       "      <td>GBA</td>\n",
       "      <td>2001</td>\n",
       "      <td>Action</td>\n",
       "      <td>0.01</td>\n",
       "      <td>0.00</td>\n",
       "      <td>0.0</td>\n",
       "      <td>0.00</td>\n",
       "      <td>67.0</td>\n",
       "      <td>tbd</td>\n",
       "      <td>E</td>\n",
       "    </tr>\n",
       "    <tr>\n",
       "      <th>16549</th>\n",
       "      <td>Bust-A-Move 3000</td>\n",
       "      <td>GC</td>\n",
       "      <td>2003</td>\n",
       "      <td>Puzzle</td>\n",
       "      <td>0.01</td>\n",
       "      <td>0.00</td>\n",
       "      <td>0.0</td>\n",
       "      <td>0.00</td>\n",
       "      <td>53.0</td>\n",
       "      <td>tbd</td>\n",
       "      <td>E</td>\n",
       "    </tr>\n",
       "    <tr>\n",
       "      <th>16550</th>\n",
       "      <td>Mega Brain Boost</td>\n",
       "      <td>DS</td>\n",
       "      <td>2008</td>\n",
       "      <td>Puzzle</td>\n",
       "      <td>0.01</td>\n",
       "      <td>0.00</td>\n",
       "      <td>0.0</td>\n",
       "      <td>0.00</td>\n",
       "      <td>48.0</td>\n",
       "      <td>tbd</td>\n",
       "      <td>E</td>\n",
       "    </tr>\n",
       "    <tr>\n",
       "      <th>16556</th>\n",
       "      <td>Plushees</td>\n",
       "      <td>DS</td>\n",
       "      <td>2008</td>\n",
       "      <td>Simulation</td>\n",
       "      <td>0.01</td>\n",
       "      <td>0.00</td>\n",
       "      <td>0.0</td>\n",
       "      <td>0.00</td>\n",
       "      <td>NaN</td>\n",
       "      <td>tbd</td>\n",
       "      <td>E</td>\n",
       "    </tr>\n",
       "    <tr>\n",
       "      <th>16558</th>\n",
       "      <td>Men in Black II: Alien Escape</td>\n",
       "      <td>GC</td>\n",
       "      <td>2003</td>\n",
       "      <td>Shooter</td>\n",
       "      <td>0.01</td>\n",
       "      <td>0.00</td>\n",
       "      <td>0.0</td>\n",
       "      <td>0.00</td>\n",
       "      <td>50.0</td>\n",
       "      <td>tbd</td>\n",
       "      <td>T</td>\n",
       "    </tr>\n",
       "  </tbody>\n",
       "</table>\n",
       "<p>2394 rows × 11 columns</p>\n",
       "</div>"
      ],
      "text/plain": [
       "                                 name platform  year_of_release       genre  \\\n",
       "119                     Zumba Fitness      Wii             2010      Sports   \n",
       "301    Namco Museum: 50th Anniversary      PS2             2005        Misc   \n",
       "519                   Zumba Fitness 2      Wii             2011      Sports   \n",
       "643                      uDraw Studio      Wii             2010        Misc   \n",
       "714                   Just Dance Kids      Wii             2010        Misc   \n",
       "...                               ...      ...              ...         ...   \n",
       "16547                 Planet Monsters      GBA             2001      Action   \n",
       "16549                Bust-A-Move 3000       GC             2003      Puzzle   \n",
       "16550                Mega Brain Boost       DS             2008      Puzzle   \n",
       "16556                        Plushees       DS             2008  Simulation   \n",
       "16558   Men in Black II: Alien Escape       GC             2003     Shooter   \n",
       "\n",
       "       na_sales  eu_sales  jp_sales  other_sales  critic_score user_score  \\\n",
       "119        3.45      2.59       0.0         0.66          42.0        tbd   \n",
       "301        2.08      1.35       0.0         0.54          61.0        tbd   \n",
       "519        1.51      1.03       0.0         0.27           NaN        tbd   \n",
       "643        1.65      0.57       0.0         0.20          71.0        tbd   \n",
       "714        1.52      0.54       0.0         0.18           NaN        tbd   \n",
       "...         ...       ...       ...          ...           ...        ...   \n",
       "16547      0.01      0.00       0.0         0.00          67.0        tbd   \n",
       "16549      0.01      0.00       0.0         0.00          53.0        tbd   \n",
       "16550      0.01      0.00       0.0         0.00          48.0        tbd   \n",
       "16556      0.01      0.00       0.0         0.00           NaN        tbd   \n",
       "16558      0.01      0.00       0.0         0.00          50.0        tbd   \n",
       "\n",
       "      rating  \n",
       "119        E  \n",
       "301     E10+  \n",
       "519        T  \n",
       "643        E  \n",
       "714        E  \n",
       "...      ...  \n",
       "16547      E  \n",
       "16549      E  \n",
       "16550      E  \n",
       "16556      E  \n",
       "16558      T  \n",
       "\n",
       "[2394 rows x 11 columns]"
      ]
     },
     "metadata": {},
     "output_type": "display_data"
    },
    {
     "name": "stdout",
     "output_type": "stream",
     "text": [
      "<class 'pandas.core.frame.DataFrame'>\n",
      "RangeIndex: 16567 entries, 0 to 16566\n",
      "Data columns (total 11 columns):\n",
      " #   Column           Non-Null Count  Dtype  \n",
      "---  ------           --------------  -----  \n",
      " 0   name             16567 non-null  object \n",
      " 1   platform         16567 non-null  object \n",
      " 2   year_of_release  16567 non-null  int64  \n",
      " 3   genre            16567 non-null  object \n",
      " 4   na_sales         16567 non-null  float64\n",
      " 5   eu_sales         16567 non-null  float64\n",
      " 6   jp_sales         16567 non-null  float64\n",
      " 7   other_sales      16567 non-null  float64\n",
      " 8   critic_score     9035 non-null   float64\n",
      " 9   user_score       7540 non-null   object \n",
      " 10  rating           9868 non-null   object \n",
      "dtypes: float64(5), int64(1), object(5)\n",
      "memory usage: 1.4+ MB\n"
     ]
    }
   ],
   "source": [
    "display(df[df['user_score'] == 'tbd'])\n",
    "df.loc[df['user_score'] == 'tbd','user_score'] = np.nan\n",
    "df.info()"
   ]
  },
  {
   "cell_type": "code",
   "execution_count": 13,
   "metadata": {},
   "outputs": [],
   "source": [
    "#Поменяем тип на вещественные у значений в столбце user_score при условии, что данное значение не равно NaN\n",
    "df['user_score'] = pd.to_numeric(df.loc[df['user_score'].notna(),'user_score'])"
   ]
  },
  {
   "cell_type": "code",
   "execution_count": 14,
   "metadata": {},
   "outputs": [
    {
     "name": "stdout",
     "output_type": "stream",
     "text": [
      "<class 'pandas.core.frame.DataFrame'>\n",
      "RangeIndex: 16567 entries, 0 to 16566\n",
      "Data columns (total 11 columns):\n",
      " #   Column           Non-Null Count  Dtype  \n",
      "---  ------           --------------  -----  \n",
      " 0   name             16567 non-null  object \n",
      " 1   platform         16567 non-null  object \n",
      " 2   year_of_release  16567 non-null  int64  \n",
      " 3   genre            16567 non-null  object \n",
      " 4   na_sales         16567 non-null  float64\n",
      " 5   eu_sales         16567 non-null  float64\n",
      " 6   jp_sales         16567 non-null  float64\n",
      " 7   other_sales      16567 non-null  float64\n",
      " 8   critic_score     9035 non-null   float64\n",
      " 9   user_score       8639 non-null   float64\n",
      " 10  rating           9868 non-null   object \n",
      "dtypes: float64(6), int64(1), object(4)\n",
      "memory usage: 1.4+ MB\n"
     ]
    }
   ],
   "source": [
    "user_group = df.groupby('name')['user_score'].transform('mean')\n",
    "df.loc[df['user_score'].isna(),'user_score'] = user_group\n",
    "df.info()"
   ]
  },
  {
   "cell_type": "markdown",
   "metadata": {},
   "source": [
    "Заменяем пропуски в столбце rating. Если на других платформах есть рейтинг игры, то этим значением мы заменим пропуски, если значений нет, то оставим пропуски."
   ]
  },
  {
   "cell_type": "code",
   "execution_count": 15,
   "metadata": {},
   "outputs": [
    {
     "name": "stdout",
     "output_type": "stream",
     "text": [
      "<class 'pandas.core.frame.DataFrame'>\n",
      "RangeIndex: 16567 entries, 0 to 16566\n",
      "Data columns (total 11 columns):\n",
      " #   Column           Non-Null Count  Dtype  \n",
      "---  ------           --------------  -----  \n",
      " 0   name             16567 non-null  object \n",
      " 1   platform         16567 non-null  object \n",
      " 2   year_of_release  16567 non-null  int64  \n",
      " 3   genre            16567 non-null  object \n",
      " 4   na_sales         16567 non-null  float64\n",
      " 5   eu_sales         16567 non-null  float64\n",
      " 6   jp_sales         16567 non-null  float64\n",
      " 7   other_sales      16567 non-null  float64\n",
      " 8   critic_score     9035 non-null   float64\n",
      " 9   user_score       8639 non-null   float64\n",
      " 10  rating           10305 non-null  object \n",
      "dtypes: float64(6), int64(1), object(4)\n",
      "memory usage: 1.4+ MB\n"
     ]
    }
   ],
   "source": [
    "rating_group = df[df['rating'].notna()].groupby('name')['rating'].first()\n",
    "\n",
    "def change_rating(row):\n",
    "    if pd.isna(row['rating']):\n",
    "        try:\n",
    "            return rating_group.loc[row['name']]\n",
    "        except:\n",
    "            return row['rating']\n",
    "    return row['rating']\n",
    "\n",
    "df['rating'] = df.apply(change_rating, axis=1)\n",
    "df.info()"
   ]
  },
  {
   "cell_type": "markdown",
   "metadata": {},
   "source": [
    "Удалять пропуски в столбцах critic_score, user_score, rating не будем, так как пропусков больше 30%. Посчитаем общие продажи по всем регионам и этап предопработки данных можно считать закрытым."
   ]
  },
  {
   "cell_type": "code",
   "execution_count": 16,
   "metadata": {},
   "outputs": [
    {
     "data": {
      "text/html": [
       "<div>\n",
       "<style scoped>\n",
       "    .dataframe tbody tr th:only-of-type {\n",
       "        vertical-align: middle;\n",
       "    }\n",
       "\n",
       "    .dataframe tbody tr th {\n",
       "        vertical-align: top;\n",
       "    }\n",
       "\n",
       "    .dataframe thead th {\n",
       "        text-align: right;\n",
       "    }\n",
       "</style>\n",
       "<table border=\"1\" class=\"dataframe\">\n",
       "  <thead>\n",
       "    <tr style=\"text-align: right;\">\n",
       "      <th></th>\n",
       "      <th>name</th>\n",
       "      <th>platform</th>\n",
       "      <th>year_of_release</th>\n",
       "      <th>genre</th>\n",
       "      <th>na_sales</th>\n",
       "      <th>eu_sales</th>\n",
       "      <th>jp_sales</th>\n",
       "      <th>other_sales</th>\n",
       "      <th>critic_score</th>\n",
       "      <th>user_score</th>\n",
       "      <th>rating</th>\n",
       "      <th>total_sales</th>\n",
       "    </tr>\n",
       "  </thead>\n",
       "  <tbody>\n",
       "    <tr>\n",
       "      <th>0</th>\n",
       "      <td>Wii Sports</td>\n",
       "      <td>Wii</td>\n",
       "      <td>2006</td>\n",
       "      <td>Sports</td>\n",
       "      <td>41.36</td>\n",
       "      <td>28.96</td>\n",
       "      <td>3.77</td>\n",
       "      <td>8.45</td>\n",
       "      <td>76.0</td>\n",
       "      <td>8.0</td>\n",
       "      <td>E</td>\n",
       "      <td>82.54</td>\n",
       "    </tr>\n",
       "    <tr>\n",
       "      <th>1</th>\n",
       "      <td>Super Mario Bros.</td>\n",
       "      <td>NES</td>\n",
       "      <td>1985</td>\n",
       "      <td>Platform</td>\n",
       "      <td>29.08</td>\n",
       "      <td>3.58</td>\n",
       "      <td>6.81</td>\n",
       "      <td>0.77</td>\n",
       "      <td>NaN</td>\n",
       "      <td>NaN</td>\n",
       "      <td>NaN</td>\n",
       "      <td>40.24</td>\n",
       "    </tr>\n",
       "    <tr>\n",
       "      <th>2</th>\n",
       "      <td>Mario Kart Wii</td>\n",
       "      <td>Wii</td>\n",
       "      <td>2008</td>\n",
       "      <td>Racing</td>\n",
       "      <td>15.68</td>\n",
       "      <td>12.76</td>\n",
       "      <td>3.79</td>\n",
       "      <td>3.29</td>\n",
       "      <td>82.0</td>\n",
       "      <td>8.3</td>\n",
       "      <td>E</td>\n",
       "      <td>35.52</td>\n",
       "    </tr>\n",
       "    <tr>\n",
       "      <th>3</th>\n",
       "      <td>Wii Sports Resort</td>\n",
       "      <td>Wii</td>\n",
       "      <td>2009</td>\n",
       "      <td>Sports</td>\n",
       "      <td>15.61</td>\n",
       "      <td>10.93</td>\n",
       "      <td>3.28</td>\n",
       "      <td>2.95</td>\n",
       "      <td>80.0</td>\n",
       "      <td>8.0</td>\n",
       "      <td>E</td>\n",
       "      <td>32.77</td>\n",
       "    </tr>\n",
       "    <tr>\n",
       "      <th>4</th>\n",
       "      <td>Pokemon Red/Pokemon Blue</td>\n",
       "      <td>GB</td>\n",
       "      <td>1996</td>\n",
       "      <td>Role-Playing</td>\n",
       "      <td>11.27</td>\n",
       "      <td>8.89</td>\n",
       "      <td>10.22</td>\n",
       "      <td>1.00</td>\n",
       "      <td>NaN</td>\n",
       "      <td>NaN</td>\n",
       "      <td>NaN</td>\n",
       "      <td>31.38</td>\n",
       "    </tr>\n",
       "  </tbody>\n",
       "</table>\n",
       "</div>"
      ],
      "text/plain": [
       "                       name platform  year_of_release         genre  na_sales  \\\n",
       "0                Wii Sports      Wii             2006        Sports     41.36   \n",
       "1         Super Mario Bros.      NES             1985      Platform     29.08   \n",
       "2            Mario Kart Wii      Wii             2008        Racing     15.68   \n",
       "3         Wii Sports Resort      Wii             2009        Sports     15.61   \n",
       "4  Pokemon Red/Pokemon Blue       GB             1996  Role-Playing     11.27   \n",
       "\n",
       "   eu_sales  jp_sales  other_sales  critic_score  user_score rating  \\\n",
       "0     28.96      3.77         8.45          76.0         8.0      E   \n",
       "1      3.58      6.81         0.77           NaN         NaN    NaN   \n",
       "2     12.76      3.79         3.29          82.0         8.3      E   \n",
       "3     10.93      3.28         2.95          80.0         8.0      E   \n",
       "4      8.89     10.22         1.00           NaN         NaN    NaN   \n",
       "\n",
       "   total_sales  \n",
       "0        82.54  \n",
       "1        40.24  \n",
       "2        35.52  \n",
       "3        32.77  \n",
       "4        31.38  "
      ]
     },
     "execution_count": 16,
     "metadata": {},
     "output_type": "execute_result"
    }
   ],
   "source": [
    "df['total_sales'] = df[['na_sales','eu_sales','jp_sales', 'other_sales']].sum(axis = 1)\n",
    "df.head()"
   ]
  },
  {
   "cell_type": "markdown",
   "metadata": {},
   "source": [
    "Я думаю, пропуски в названии игр 1993 года связан с тем, что возможно это стандартные игры платформы, поэтому нет не имени, ни жанра. Интереснее вопрос почему отсутствуют данные, когда вышла игра, если на других платформах есть дата выхода. Думаю это либо техническая ошибка, либо человеческий фактор: зафиксировали количество продаж, название платформы и все. Отсутствие оценок пользователей и критиков, а также отсутствие рейтинг связана либо с небольшой популярностью игры и на нее не обращает внимание мировое пространство, либо данные не были перенесен, как в случае годом выхода игры."
   ]
  },
  {
   "cell_type": "markdown",
   "metadata": {},
   "source": [
    "## Анализ данных"
   ]
  },
  {
   "cell_type": "markdown",
   "metadata": {},
   "source": [
    "#### 1. Количество вышедших игр по годам:"
   ]
  },
  {
   "cell_type": "code",
   "execution_count": 17,
   "metadata": {},
   "outputs": [
    {
     "data": {
      "text/plain": [
       "<AxesSubplot:xlabel='year_of_release'>"
      ]
     },
     "execution_count": 17,
     "metadata": {},
     "output_type": "execute_result"
    },
    {
     "data": {
      "image/png": "[encoded data removed]",
      "text/plain": [
       "<Figure size 720x432 with 1 Axes>"
      ]
     },
     "metadata": {
      "needs_background": "light"
     },
     "output_type": "display_data"
    }
   ],
   "source": [
    "df.groupby('year_of_release')['genre'].count().plot(kind='bar',figsize=(10,6))"
   ]
  },
  {
   "cell_type": "markdown",
   "metadata": {},
   "source": [
    "#### 2. Изменение продаж по платформам"
   ]
  },
  {
   "cell_type": "markdown",
   "metadata": {},
   "source": [
    "Определим топ-6 платформ по продажам за все года:"
   ]
  },
  {
   "cell_type": "code",
   "execution_count": 18,
   "metadata": {},
   "outputs": [
    {
     "data": {
      "text/plain": [
       "platform\n",
       "PS2     1247.16\n",
       "X360     966.61\n",
       "PS3      935.19\n",
       "Wii      903.31\n",
       "DS       804.28\n",
       "PS       727.58\n",
       "PS4      314.14\n",
       "GBA      313.73\n",
       "PSP      293.57\n",
       "PC       258.86\n",
       "Name: total_sales, dtype: float64"
      ]
     },
     "execution_count": 18,
     "metadata": {},
     "output_type": "execute_result"
    }
   ],
   "source": [
    "top_platform = df.groupby('platform')['total_sales'].sum().sort_values(ascending = False).head(10)\n",
    "top_platform"
   ]
  },
  {
   "cell_type": "markdown",
   "metadata": {},
   "source": [
    "Распределение продаж по годам для топ-10 платформ:"
   ]
  },
  {
   "cell_type": "code",
   "execution_count": 19,
   "metadata": {},
   "outputs": [
    {
     "data": {
      "text/html": [
       "<div>\n",
       "<style scoped>\n",
       "    .dataframe tbody tr th:only-of-type {\n",
       "        vertical-align: middle;\n",
       "    }\n",
       "\n",
       "    .dataframe tbody tr th {\n",
       "        vertical-align: top;\n",
       "    }\n",
       "\n",
       "    .dataframe thead th {\n",
       "        text-align: right;\n",
       "    }\n",
       "</style>\n",
       "<table border=\"1\" class=\"dataframe\">\n",
       "  <thead>\n",
       "    <tr style=\"text-align: right;\">\n",
       "      <th>platform</th>\n",
       "      <th>DS</th>\n",
       "      <th>GBA</th>\n",
       "      <th>PC</th>\n",
       "      <th>PS</th>\n",
       "      <th>PS2</th>\n",
       "      <th>PS3</th>\n",
       "      <th>PS4</th>\n",
       "      <th>PSP</th>\n",
       "      <th>Wii</th>\n",
       "      <th>X360</th>\n",
       "    </tr>\n",
       "    <tr>\n",
       "      <th>year_of_release</th>\n",
       "      <th></th>\n",
       "      <th></th>\n",
       "      <th></th>\n",
       "      <th></th>\n",
       "      <th></th>\n",
       "      <th></th>\n",
       "      <th></th>\n",
       "      <th></th>\n",
       "      <th></th>\n",
       "      <th></th>\n",
       "    </tr>\n",
       "  </thead>\n",
       "  <tbody>\n",
       "    <tr>\n",
       "      <th>1985</th>\n",
       "      <td>0.02</td>\n",
       "      <td>NaN</td>\n",
       "      <td>0.04</td>\n",
       "      <td>NaN</td>\n",
       "      <td>NaN</td>\n",
       "      <td>NaN</td>\n",
       "      <td>NaN</td>\n",
       "      <td>NaN</td>\n",
       "      <td>NaN</td>\n",
       "      <td>NaN</td>\n",
       "    </tr>\n",
       "    <tr>\n",
       "      <th>1988</th>\n",
       "      <td>NaN</td>\n",
       "      <td>NaN</td>\n",
       "      <td>0.03</td>\n",
       "      <td>NaN</td>\n",
       "      <td>NaN</td>\n",
       "      <td>NaN</td>\n",
       "      <td>NaN</td>\n",
       "      <td>NaN</td>\n",
       "      <td>NaN</td>\n",
       "      <td>NaN</td>\n",
       "    </tr>\n",
       "    <tr>\n",
       "      <th>1992</th>\n",
       "      <td>NaN</td>\n",
       "      <td>NaN</td>\n",
       "      <td>3.03</td>\n",
       "      <td>NaN</td>\n",
       "      <td>NaN</td>\n",
       "      <td>NaN</td>\n",
       "      <td>NaN</td>\n",
       "      <td>NaN</td>\n",
       "      <td>NaN</td>\n",
       "      <td>NaN</td>\n",
       "    </tr>\n",
       "    <tr>\n",
       "      <th>1994</th>\n",
       "      <td>NaN</td>\n",
       "      <td>NaN</td>\n",
       "      <td>12.87</td>\n",
       "      <td>6.03</td>\n",
       "      <td>NaN</td>\n",
       "      <td>NaN</td>\n",
       "      <td>NaN</td>\n",
       "      <td>NaN</td>\n",
       "      <td>NaN</td>\n",
       "      <td>NaN</td>\n",
       "    </tr>\n",
       "    <tr>\n",
       "      <th>1995</th>\n",
       "      <td>NaN</td>\n",
       "      <td>NaN</td>\n",
       "      <td>4.22</td>\n",
       "      <td>35.96</td>\n",
       "      <td>NaN</td>\n",
       "      <td>NaN</td>\n",
       "      <td>NaN</td>\n",
       "      <td>NaN</td>\n",
       "      <td>NaN</td>\n",
       "      <td>NaN</td>\n",
       "    </tr>\n",
       "    <tr>\n",
       "      <th>1996</th>\n",
       "      <td>NaN</td>\n",
       "      <td>NaN</td>\n",
       "      <td>10.58</td>\n",
       "      <td>94.70</td>\n",
       "      <td>NaN</td>\n",
       "      <td>NaN</td>\n",
       "      <td>NaN</td>\n",
       "      <td>NaN</td>\n",
       "      <td>NaN</td>\n",
       "      <td>NaN</td>\n",
       "    </tr>\n",
       "    <tr>\n",
       "      <th>1997</th>\n",
       "      <td>NaN</td>\n",
       "      <td>NaN</td>\n",
       "      <td>11.27</td>\n",
       "      <td>136.17</td>\n",
       "      <td>NaN</td>\n",
       "      <td>NaN</td>\n",
       "      <td>NaN</td>\n",
       "      <td>NaN</td>\n",
       "      <td>NaN</td>\n",
       "      <td>NaN</td>\n",
       "    </tr>\n",
       "    <tr>\n",
       "      <th>1998</th>\n",
       "      <td>NaN</td>\n",
       "      <td>NaN</td>\n",
       "      <td>3.26</td>\n",
       "      <td>169.49</td>\n",
       "      <td>NaN</td>\n",
       "      <td>NaN</td>\n",
       "      <td>NaN</td>\n",
       "      <td>NaN</td>\n",
       "      <td>NaN</td>\n",
       "      <td>NaN</td>\n",
       "    </tr>\n",
       "    <tr>\n",
       "      <th>1999</th>\n",
       "      <td>NaN</td>\n",
       "      <td>NaN</td>\n",
       "      <td>4.74</td>\n",
       "      <td>144.53</td>\n",
       "      <td>NaN</td>\n",
       "      <td>NaN</td>\n",
       "      <td>NaN</td>\n",
       "      <td>NaN</td>\n",
       "      <td>NaN</td>\n",
       "      <td>NaN</td>\n",
       "    </tr>\n",
       "    <tr>\n",
       "      <th>2000</th>\n",
       "      <td>NaN</td>\n",
       "      <td>0.07</td>\n",
       "      <td>4.66</td>\n",
       "      <td>96.37</td>\n",
       "      <td>39.17</td>\n",
       "      <td>NaN</td>\n",
       "      <td>NaN</td>\n",
       "      <td>NaN</td>\n",
       "      <td>NaN</td>\n",
       "      <td>NaN</td>\n",
       "    </tr>\n",
       "    <tr>\n",
       "      <th>2001</th>\n",
       "      <td>NaN</td>\n",
       "      <td>61.53</td>\n",
       "      <td>5.47</td>\n",
       "      <td>35.59</td>\n",
       "      <td>166.43</td>\n",
       "      <td>NaN</td>\n",
       "      <td>NaN</td>\n",
       "      <td>NaN</td>\n",
       "      <td>NaN</td>\n",
       "      <td>NaN</td>\n",
       "    </tr>\n",
       "    <tr>\n",
       "      <th>2002</th>\n",
       "      <td>NaN</td>\n",
       "      <td>74.16</td>\n",
       "      <td>8.57</td>\n",
       "      <td>6.67</td>\n",
       "      <td>208.36</td>\n",
       "      <td>NaN</td>\n",
       "      <td>NaN</td>\n",
       "      <td>NaN</td>\n",
       "      <td>NaN</td>\n",
       "      <td>NaN</td>\n",
       "    </tr>\n",
       "    <tr>\n",
       "      <th>2003</th>\n",
       "      <td>NaN</td>\n",
       "      <td>56.67</td>\n",
       "      <td>8.89</td>\n",
       "      <td>2.07</td>\n",
       "      <td>193.05</td>\n",
       "      <td>NaN</td>\n",
       "      <td>NaN</td>\n",
       "      <td>NaN</td>\n",
       "      <td>NaN</td>\n",
       "      <td>NaN</td>\n",
       "    </tr>\n",
       "    <tr>\n",
       "      <th>2004</th>\n",
       "      <td>17.27</td>\n",
       "      <td>77.91</td>\n",
       "      <td>10.39</td>\n",
       "      <td>NaN</td>\n",
       "      <td>212.76</td>\n",
       "      <td>NaN</td>\n",
       "      <td>NaN</td>\n",
       "      <td>7.06</td>\n",
       "      <td>NaN</td>\n",
       "      <td>NaN</td>\n",
       "    </tr>\n",
       "    <tr>\n",
       "      <th>2005</th>\n",
       "      <td>130.14</td>\n",
       "      <td>34.53</td>\n",
       "      <td>4.38</td>\n",
       "      <td>NaN</td>\n",
       "      <td>160.91</td>\n",
       "      <td>0.19</td>\n",
       "      <td>NaN</td>\n",
       "      <td>43.84</td>\n",
       "      <td>NaN</td>\n",
       "      <td>9.22</td>\n",
       "    </tr>\n",
       "    <tr>\n",
       "      <th>2006</th>\n",
       "      <td>119.81</td>\n",
       "      <td>5.46</td>\n",
       "      <td>2.85</td>\n",
       "      <td>NaN</td>\n",
       "      <td>103.99</td>\n",
       "      <td>21.44</td>\n",
       "      <td>NaN</td>\n",
       "      <td>56.28</td>\n",
       "      <td>140.19</td>\n",
       "      <td>51.79</td>\n",
       "    </tr>\n",
       "    <tr>\n",
       "      <th>2007</th>\n",
       "      <td>147.23</td>\n",
       "      <td>3.40</td>\n",
       "      <td>9.28</td>\n",
       "      <td>NaN</td>\n",
       "      <td>76.10</td>\n",
       "      <td>73.19</td>\n",
       "      <td>NaN</td>\n",
       "      <td>47.30</td>\n",
       "      <td>153.41</td>\n",
       "      <td>95.41</td>\n",
       "    </tr>\n",
       "    <tr>\n",
       "      <th>2008</th>\n",
       "      <td>145.36</td>\n",
       "      <td>NaN</td>\n",
       "      <td>12.46</td>\n",
       "      <td>NaN</td>\n",
       "      <td>53.90</td>\n",
       "      <td>118.79</td>\n",
       "      <td>NaN</td>\n",
       "      <td>36.76</td>\n",
       "      <td>177.68</td>\n",
       "      <td>136.07</td>\n",
       "    </tr>\n",
       "    <tr>\n",
       "      <th>2009</th>\n",
       "      <td>119.56</td>\n",
       "      <td>NaN</td>\n",
       "      <td>17.05</td>\n",
       "      <td>NaN</td>\n",
       "      <td>26.40</td>\n",
       "      <td>130.93</td>\n",
       "      <td>NaN</td>\n",
       "      <td>37.78</td>\n",
       "      <td>206.97</td>\n",
       "      <td>120.82</td>\n",
       "    </tr>\n",
       "    <tr>\n",
       "      <th>2010</th>\n",
       "      <td>85.35</td>\n",
       "      <td>NaN</td>\n",
       "      <td>26.15</td>\n",
       "      <td>NaN</td>\n",
       "      <td>5.64</td>\n",
       "      <td>142.96</td>\n",
       "      <td>NaN</td>\n",
       "      <td>35.04</td>\n",
       "      <td>128.67</td>\n",
       "      <td>170.55</td>\n",
       "    </tr>\n",
       "    <tr>\n",
       "      <th>2011</th>\n",
       "      <td>26.33</td>\n",
       "      <td>NaN</td>\n",
       "      <td>35.16</td>\n",
       "      <td>NaN</td>\n",
       "      <td>0.45</td>\n",
       "      <td>157.98</td>\n",
       "      <td>NaN</td>\n",
       "      <td>17.82</td>\n",
       "      <td>59.79</td>\n",
       "      <td>145.23</td>\n",
       "    </tr>\n",
       "    <tr>\n",
       "      <th>2012</th>\n",
       "      <td>11.67</td>\n",
       "      <td>NaN</td>\n",
       "      <td>23.45</td>\n",
       "      <td>NaN</td>\n",
       "      <td>NaN</td>\n",
       "      <td>108.28</td>\n",
       "      <td>NaN</td>\n",
       "      <td>7.95</td>\n",
       "      <td>22.94</td>\n",
       "      <td>100.72</td>\n",
       "    </tr>\n",
       "    <tr>\n",
       "      <th>2013</th>\n",
       "      <td>1.54</td>\n",
       "      <td>NaN</td>\n",
       "      <td>13.01</td>\n",
       "      <td>NaN</td>\n",
       "      <td>NaN</td>\n",
       "      <td>113.25</td>\n",
       "      <td>25.99</td>\n",
       "      <td>3.38</td>\n",
       "      <td>8.59</td>\n",
       "      <td>88.58</td>\n",
       "    </tr>\n",
       "    <tr>\n",
       "      <th>2014</th>\n",
       "      <td>NaN</td>\n",
       "      <td>NaN</td>\n",
       "      <td>13.28</td>\n",
       "      <td>NaN</td>\n",
       "      <td>NaN</td>\n",
       "      <td>47.76</td>\n",
       "      <td>100.00</td>\n",
       "      <td>0.24</td>\n",
       "      <td>3.75</td>\n",
       "      <td>34.74</td>\n",
       "    </tr>\n",
       "    <tr>\n",
       "      <th>2015</th>\n",
       "      <td>NaN</td>\n",
       "      <td>NaN</td>\n",
       "      <td>8.52</td>\n",
       "      <td>NaN</td>\n",
       "      <td>NaN</td>\n",
       "      <td>16.82</td>\n",
       "      <td>118.90</td>\n",
       "      <td>0.12</td>\n",
       "      <td>1.14</td>\n",
       "      <td>11.96</td>\n",
       "    </tr>\n",
       "    <tr>\n",
       "      <th>2016</th>\n",
       "      <td>NaN</td>\n",
       "      <td>NaN</td>\n",
       "      <td>5.25</td>\n",
       "      <td>NaN</td>\n",
       "      <td>NaN</td>\n",
       "      <td>3.60</td>\n",
       "      <td>69.25</td>\n",
       "      <td>NaN</td>\n",
       "      <td>0.18</td>\n",
       "      <td>1.52</td>\n",
       "    </tr>\n",
       "  </tbody>\n",
       "</table>\n",
       "</div>"
      ],
      "text/plain": [
       "platform             DS    GBA     PC      PS     PS2     PS3     PS4    PSP  \\\n",
       "year_of_release                                                                \n",
       "1985               0.02    NaN   0.04     NaN     NaN     NaN     NaN    NaN   \n",
       "1988                NaN    NaN   0.03     NaN     NaN     NaN     NaN    NaN   \n",
       "1992                NaN    NaN   3.03     NaN     NaN     NaN     NaN    NaN   \n",
       "1994                NaN    NaN  12.87    6.03     NaN     NaN     NaN    NaN   \n",
       "1995                NaN    NaN   4.22   35.96     NaN     NaN     NaN    NaN   \n",
       "1996                NaN    NaN  10.58   94.70     NaN     NaN     NaN    NaN   \n",
       "1997                NaN    NaN  11.27  136.17     NaN     NaN     NaN    NaN   \n",
       "1998                NaN    NaN   3.26  169.49     NaN     NaN     NaN    NaN   \n",
       "1999                NaN    NaN   4.74  144.53     NaN     NaN     NaN    NaN   \n",
       "2000                NaN   0.07   4.66   96.37   39.17     NaN     NaN    NaN   \n",
       "2001                NaN  61.53   5.47   35.59  166.43     NaN     NaN    NaN   \n",
       "2002                NaN  74.16   8.57    6.67  208.36     NaN     NaN    NaN   \n",
       "2003                NaN  56.67   8.89    2.07  193.05     NaN     NaN    NaN   \n",
       "2004              17.27  77.91  10.39     NaN  212.76     NaN     NaN   7.06   \n",
       "2005             130.14  34.53   4.38     NaN  160.91    0.19     NaN  43.84   \n",
       "2006             119.81   5.46   2.85     NaN  103.99   21.44     NaN  56.28   \n",
       "2007             147.23   3.40   9.28     NaN   76.10   73.19     NaN  47.30   \n",
       "2008             145.36    NaN  12.46     NaN   53.90  118.79     NaN  36.76   \n",
       "2009             119.56    NaN  17.05     NaN   26.40  130.93     NaN  37.78   \n",
       "2010              85.35    NaN  26.15     NaN    5.64  142.96     NaN  35.04   \n",
       "2011              26.33    NaN  35.16     NaN    0.45  157.98     NaN  17.82   \n",
       "2012              11.67    NaN  23.45     NaN     NaN  108.28     NaN   7.95   \n",
       "2013               1.54    NaN  13.01     NaN     NaN  113.25   25.99   3.38   \n",
       "2014                NaN    NaN  13.28     NaN     NaN   47.76  100.00   0.24   \n",
       "2015                NaN    NaN   8.52     NaN     NaN   16.82  118.90   0.12   \n",
       "2016                NaN    NaN   5.25     NaN     NaN    3.60   69.25    NaN   \n",
       "\n",
       "platform            Wii    X360  \n",
       "year_of_release                  \n",
       "1985                NaN     NaN  \n",
       "1988                NaN     NaN  \n",
       "1992                NaN     NaN  \n",
       "1994                NaN     NaN  \n",
       "1995                NaN     NaN  \n",
       "1996                NaN     NaN  \n",
       "1997                NaN     NaN  \n",
       "1998                NaN     NaN  \n",
       "1999                NaN     NaN  \n",
       "2000                NaN     NaN  \n",
       "2001                NaN     NaN  \n",
       "2002                NaN     NaN  \n",
       "2003                NaN     NaN  \n",
       "2004                NaN     NaN  \n",
       "2005                NaN    9.22  \n",
       "2006             140.19   51.79  \n",
       "2007             153.41   95.41  \n",
       "2008             177.68  136.07  \n",
       "2009             206.97  120.82  \n",
       "2010             128.67  170.55  \n",
       "2011              59.79  145.23  \n",
       "2012              22.94  100.72  \n",
       "2013               8.59   88.58  \n",
       "2014               3.75   34.74  \n",
       "2015               1.14   11.96  \n",
       "2016               0.18    1.52  "
      ]
     },
     "execution_count": 19,
     "metadata": {},
     "output_type": "execute_result"
    }
   ],
   "source": [
    "top_platform_list = top_platform.index.tolist()\n",
    "df_top_platform = df.query('platform in @top_platform_list').\\\n",
    "pivot_table(index = 'year_of_release', columns = 'platform', \n",
    "            values = 'total_sales', aggfunc = 'sum')\n",
    "df_top_platform"
   ]
  },
  {
   "cell_type": "code",
   "execution_count": 20,
   "metadata": {},
   "outputs": [
    {
     "name": "stdout",
     "output_type": "stream",
     "text": [
      "PS2\n"
     ]
    },
    {
     "data": {
      "image/png": "[encoded data removed]",
      "text/plain": [
       "<Figure size 432x288 with 1 Axes>"
      ]
     },
     "metadata": {
      "needs_background": "light"
     },
     "output_type": "display_data"
    },
    {
     "name": "stdout",
     "output_type": "stream",
     "text": [
      "X360\n"
     ]
    },
    {
     "data": {
      "image/png": "[encoded data removed]",
      "text/plain": [
       "<Figure size 432x288 with 1 Axes>"
      ]
     },
     "metadata": {
      "needs_background": "light"
     },
     "output_type": "display_data"
    },
    {
     "name": "stdout",
     "output_type": "stream",
     "text": [
      "PS3\n"
     ]
    },
    {
     "data": {
      "image/png": "[encoded data removed]",
      "text/plain": [
       "<Figure size 432x288 with 1 Axes>"
      ]
     },
     "metadata": {
      "needs_background": "light"
     },
     "output_type": "display_data"
    },
    {
     "name": "stdout",
     "output_type": "stream",
     "text": [
      "Wii\n"
     ]
    },
    {
     "data": {
      "image/png": "[encoded data removed]",
      "text/plain": [
       "<Figure size 432x288 with 1 Axes>"
      ]
     },
     "metadata": {
      "needs_background": "light"
     },
     "output_type": "display_data"
    },
    {
     "name": "stdout",
     "output_type": "stream",
     "text": [
      "DS\n"
     ]
    },
    {
     "data": {
      "image/png": "[encoded data removed]",
      "text/plain": [
       "<Figure size 432x288 with 1 Axes>"
      ]
     },
     "metadata": {
      "needs_background": "light"
     },
     "output_type": "display_data"
    },
    {
     "name": "stdout",
     "output_type": "stream",
     "text": [
      "PS\n"
     ]
    },
    {
     "data": {
      "image/png": "[encoded data removed]",
      "text/plain": [
       "<Figure size 432x288 with 1 Axes>"
      ]
     },
     "metadata": {
      "needs_background": "light"
     },
     "output_type": "display_data"
    },
    {
     "name": "stdout",
     "output_type": "stream",
     "text": [
      "PS4\n"
     ]
    },
    {
     "data": {
      "image/png": "[encoded data removed]",
      "text/plain": [
       "<Figure size 432x288 with 1 Axes>"
      ]
     },
     "metadata": {
      "needs_background": "light"
     },
     "output_type": "display_data"
    },
    {
     "name": "stdout",
     "output_type": "stream",
     "text": [
      "GBA\n"
     ]
    },
    {
     "data": {
      "image/png": "[encoded data removed]",
      "text/plain": [
       "<Figure size 432x288 with 1 Axes>"
      ]
     },
     "metadata": {
      "needs_background": "light"
     },
     "output_type": "display_data"
    },
    {
     "name": "stdout",
     "output_type": "stream",
     "text": [
      "PSP\n"
     ]
    },
    {
     "data": {
      "image/png": "[encoded data removed]",
      "text/plain": [
       "<Figure size 432x288 with 1 Axes>"
      ]
     },
     "metadata": {
      "needs_background": "light"
     },
     "output_type": "display_data"
    },
    {
     "name": "stdout",
     "output_type": "stream",
     "text": [
      "PC\n"
     ]
    },
    {
     "data": {
      "image/png": "[encoded data removed]",
      "text/plain": [
       "<Figure size 432x288 with 1 Axes>"
      ]
     },
     "metadata": {
      "needs_background": "light"
     },
     "output_type": "display_data"
    }
   ],
   "source": [
    "for platform in top_platform.index:\n",
    "    print(platform)\n",
    "    (df\n",
    "     .query('platform == @platform')\n",
    "     .pivot_table(index='year_of_release', values='total_sales', aggfunc='sum')\n",
    "     .plot(kind='bar')\n",
    "    )\n",
    "    plt.show()"
   ]
  },
  {
   "cell_type": "markdown",
   "metadata": {},
   "source": [
    "Из первого пункта анализа мы увидели рост количества игр к 2008 году и спад после него. Из второго пункта наглядно показан срок \"жизни\" топ платформ, которые составляет в среднем 10 лет. \n",
    "\n",
    "Но с учетом динамично меняющейся индустрии в компьютерных играх, **актуальный период** возьмем 3 года с 2013 по2015 год."
   ]
  },
  {
   "cell_type": "markdown",
   "metadata": {},
   "source": [
    "#### Актуальный период без учета предыдущих лет"
   ]
  },
  {
   "cell_type": "code",
   "execution_count": 21,
   "metadata": {},
   "outputs": [
    {
     "data": {
      "text/plain": [
       "platform\n",
       "PS4     244.89\n",
       "PS3     177.83\n",
       "X360    135.28\n",
       "XOne    133.17\n",
       "3DS     128.11\n",
       "WiiU     60.03\n",
       "PC       34.81\n",
       "PSV      28.74\n",
       "Wii      13.48\n",
       "PSP       3.74\n",
       "dtype: float64"
      ]
     },
     "metadata": {},
     "output_type": "display_data"
    }
   ],
   "source": [
    "df_top_platform_actual = (\n",
    "    df.query('2013<= year_of_release <= 2015').\n",
    "    pivot_table(index = 'year_of_release', columns = 'platform', \n",
    "                values = 'total_sales', aggfunc = 'sum').sum().\n",
    "    sort_values(ascending = False).head(10))\n",
    "display(df_top_platform_actual)\n",
    "top_platform_actual_list = df_top_platform_actual.index.tolist()\n",
    "df_act = df.query('2013<= year_of_release <= 2015')"
   ]
  },
  {
   "cell_type": "markdown",
   "metadata": {},
   "source": [
    "Изменив период, мы получили новый топ платформ по продажам за актуальный период. Первые три места заняли X360, PS3, PS4."
   ]
  },
  {
   "cell_type": "markdown",
   "metadata": {},
   "source": [
    "#### Потенциально прибыльные платформы"
   ]
  },
  {
   "cell_type": "code",
   "execution_count": 23,
   "metadata": {},
   "outputs": [
    {
     "data": {
      "text/plain": [
       "Text(0, 0.5, 'Количество продаж')"
      ]
     },
     "execution_count": 23,
     "metadata": {},
     "output_type": "execute_result"
    },
    {
     "data": {
      "image/png": "[encoded data removed]",
      "text/plain": [
       "<Figure size 1080x720 with 1 Axes>"
      ]
     },
     "metadata": {},
     "output_type": "display_data"
    }
   ],
   "source": [
    "sales_on_platform_actual = (\n",
    "    df_act.pivot_table(index='year_of_release', \n",
    "                       columns ='platform', \n",
    "                       values='total_sales', \n",
    "                       aggfunc='sum')\n",
    ")\n",
    "plt.figure(figsize=(15,10))\n",
    "sns.lineplot(data=sales_on_platform_actual).locator_params(integer=True)\n",
    "sns.set_style('darkgrid')\n",
    "plt.xlabel(\"Год выпуска\")\n",
    "plt.ylabel(\"Количество продаж\")"
   ]
  },
  {
   "cell_type": "markdown",
   "metadata": {},
   "source": [
    "На графике мы видим, что платформы PS4 и XOne растут в количестве продаж. В свою очередь 3DS, PS3, X360 стремительно падают, в том числе потому что на смену им пришли PS4, XOne. Остальные платформы стабильны на своем низком уровне продаж до 20."
   ]
  },
  {
   "cell_type": "code",
   "execution_count": null,
   "metadata": {},
   "outputs": [],
   "source": [
    "sales_on_top_platform_actual =df_act.query('platform in @top_platform_actual_list')\n",
    "#sales_on_top_platform_actual.boxplot(column='total_sales', by='platform', figsize=(15,10), grid=True)\n",
    "plt.figure(figsize=(15,10))\n",
    "sns.boxplot(data=sales_on_top_platform_actual, x=\"platform\", y=\"total_sales\")\n",
    "plt.ylim(0,2.5)\n",
    "plt.xlabel(\"Топ платформ\")\n",
    "plt.ylabel(\"Количество продаж\")"
   ]
  },
  {
   "cell_type": "markdown",
   "metadata": {},
   "source": [
    "Из графика видно что в актуальном периоде на последних места продажи игр у платформ PC, PSP, PSV, 3DS, где 75% проданных копий меньше 0,25. Платформы WiiU и PS3 находятся на закате своего \"жизненного\" цикла, у них объем продаж большинства игр чуть больше 0,5. У патформ X360 и Wii есть одно общее: 75% продаж около 0.9, при медиана и нижний квартель у Х360 выше. Аналогичное сходство у приемников этих двух платформ: XOne и PS4. И если сравнивать с предшественниками этих двух платформ, то медиана количества продаж поднялась, а 75% количества проданных игр превысило 1,1. Данный факт также указывает о перспективности данных платформ."
   ]
  },
  {
   "cell_type": "markdown",
   "metadata": {},
   "source": [
    "#### Диаграмма рассеяния и корреляция для PS3"
   ]
  },
  {
   "cell_type": "code",
   "execution_count": null,
   "metadata": {},
   "outputs": [],
   "source": [
    "(\n",
    "    sales_on_top_platform_actual[sales_on_top_platform_actual['platform'] == 'PS3'].\n",
    "    plot(x='total_sales', y='user_score',kind='scatter', alpha = 0.4, figsize=(15,10))\n",
    ")\n",
    "(\n",
    "    sales_on_top_platform_actual[sales_on_top_platform_actual['platform'] == 'PS3'].\n",
    "    plot(x='total_sales', y='critic_score',kind='scatter', alpha = 0.4, figsize=(15,10))\n",
    ")\n",
    "correlation = (\n",
    "    sales_on_top_platform_actual[sales_on_top_platform_actual['platform'] == 'PS3']\n",
    "    [['user_score','critic_score','total_sales']].corr()\n",
    ")\n",
    "print(correlation)"
   ]
  },
  {
   "cell_type": "markdown",
   "metadata": {},
   "source": [
    "Судя по графикам и корреляции, можно сделать вывод, что взаимосвязь между отзывами критиков и количеством продаж есть, коэффициент корреляции = 0.4. Связь между отзывами пользователей и объемом продаже либо отсутствует, либо не линейная и составялет 0.13. "
   ]
  },
  {
   "cell_type": "markdown",
   "metadata": {},
   "source": [
    "#### Диаграмма рассеяния и корреляция для остальных платформ"
   ]
  },
  {
   "cell_type": "code",
   "execution_count": null,
   "metadata": {},
   "outputs": [],
   "source": [
    "for pf in top_platform_actual_list:\n",
    "    x = sales_on_top_platform_actual.query('platform == @pf')\\\n",
    "    .plot(x='total_sales', y='user_score', kind='scatter', alpha=0.3, figsize=(15,15))\\\n",
    "    .set(title=f'Влияние пользовательских оценок на продажи игр на {pf}',xlabel='Оценка пользователя', ylabel='Продажи');\n",
    "    y =  sales_on_top_platform_actual.query('platform == @pf')\\\n",
    "    .plot(x='total_sales', y='critic_score', kind='scatter', alpha=0.3, figsize=(15,15))\\\n",
    "    .set(title=f'Влияние оценок критиков на продажи игр на {pf}',xlabel='Оценка критика', ylabel='Продажи');\n",
    "    plt.show()\n",
    "    correlation =  sales_on_top_platform_actual.query('platform == @pf')[['user_score','critic_score','total_sales']].corr()\n",
    "    display(correlation)"
   ]
  },
  {
   "cell_type": "markdown",
   "metadata": {},
   "source": [
    "Есть определенные сходства с графиками и коэф. корреляции с PS3 у отсальных платформ. У платформ X360, PS2, PS4, Xone схожая зависимость количества продаж от отзывов критиков и количества продаж от оценок пользователей. Однако есть платформы, у которых связь между продажами и отзывами критиков намного меньше: PSP = 0.28, Wii = 0.16, DS = 0.23, 3DS = 0.33, PC = 0.28. Думаю ответ кроется в популярности этих платформ, и как следствие внимание критиков к ним. Взаимосвязь количества продаж у этих платформ с оценками пользователей стремится к нулю, это является общим для всех платформ. Однако есть платформы PC, Xone где эта связь отрицательная. Причина этого кроется в \"шумах\". \n"
   ]
  },
  {
   "cell_type": "markdown",
   "metadata": {},
   "source": [
    "#### Распределение по жанрам"
   ]
  },
  {
   "cell_type": "code",
   "execution_count": null,
   "metadata": {},
   "outputs": [],
   "source": [
    "sales_genre = sales_on_top_platform_actual.groupby('genre').agg({'total_sales':['sum','count','mean','median']}).reset_index()\n",
    "sales_genre.columns = [tup[1] if tup[1] else tup[0] for tup in sales_genre.columns]\n",
    "display(sales_genre.sort_values(by = 'sum',ascending = False))"
   ]
  },
  {
   "cell_type": "markdown",
   "metadata": {},
   "source": [
    "Самыми прибыльными жанрами являются Sports, Shooter, Platform, так как медианное значение у них наибольшее. По количество купленных копий игры лидирует Shooters c большим отрывом. На втором месте игры в жанре Sports, на третьем - Platform. Подытожим, можно сказать, что наиболее перспективные направления - это Shooters и Sports."
   ]
  },
  {
   "cell_type": "markdown",
   "metadata": {},
   "source": [
    "# Портрет пользователя"
   ]
  },
  {
   "cell_type": "code",
   "execution_count": null,
   "metadata": {},
   "outputs": [],
   "source": [
    "regions = ['na_sales', 'eu_sales', 'jp_sales']\n",
    "\n",
    "print('Popular genre in different regions')  \n",
    "for value in regions:\n",
    "    group_regions = df_act.pivot_table(index = 'genre', values = value, aggfunc = 'sum').sort_values(by = value, ascending=False).reset_index()\n",
    "    group_regions['persentage'] = round((group_regions[value] / group_regions[value].sum()) * 100, 1)\n",
    "    group_regions['group_name'] = group_regions['genre'].where(group_regions['persentage'] > 7, 'Другие')\n",
    "    group_regions.pivot_table(index = 'group_name', values = 'persentage', aggfunc = 'sum').plot(kind='pie', x = 'group_name', y = 'persentage', label = '', legend = False, title = value, autopct = '%1.0f%%', figsize=(4, 4));\n",
    "    plt.show()"
   ]
  },
  {
   "cell_type": "code",
   "execution_count": null,
   "metadata": {},
   "outputs": [],
   "source": [
    "regions = ['na_sales', 'eu_sales', 'jp_sales']\n",
    "\n",
    "print('Popular platform in different regions')  \n",
    "for value in regions:\n",
    "    group_regions = df_act.pivot_table(index = 'platform', values = value, aggfunc = 'sum').sort_values(by = value, ascending=False).reset_index()\n",
    "    group_regions['persentage'] = round((group_regions[value] / group_regions[value].sum()) * 100, 1)\n",
    "    group_regions['group_name'] = group_regions['platform'].where(group_regions['persentage'] > 7, 'Другие')\n",
    "    group_regions.pivot_table(index = 'group_name', values = 'persentage', aggfunc = 'sum').plot(kind='pie', x = 'group_name', y = 'persentage', label = '', legend = False, title = value, autopct = '%1.0f%%', figsize=(4, 4));\n",
    "    plt.show()"
   ]
  },
  {
   "cell_type": "code",
   "execution_count": null,
   "metadata": {},
   "outputs": [],
   "source": [
    "regions = ['na_sales', 'eu_sales', 'jp_sales']\n",
    "\n",
    "df_act['rating'] = df_act['rating'].fillna('Не определён')\n",
    "\n",
    "print('Popular rating in different regions')  \n",
    "for value in regions:\n",
    "    group_regions = df_act.pivot_table(index = 'rating', values = value, aggfunc = 'sum').sort_values(by = value, ascending=False).reset_index()\n",
    "    group_regions['persentage'] = round((group_regions[value] / group_regions[value].sum()) * 100, 1)\n",
    "    group_regions.pivot_table(index = 'rating', values = 'persentage', aggfunc = 'sum').plot(kind='pie',x = 'rating', y = 'persentage', label = '', legend = False, title = value, autopct = '%1.0f%%', figsize=(4, 4))\n",
    "    plt.show()"
   ]
  },
  {
   "cell_type": "markdown",
   "metadata": {},
   "source": [
    "**I. Портрет пользователя из Северной Америки**\n",
    "Наиболее популярными жанрами являются Action (30%), Shooter (24%), Sports (15%). Наибольшее количество людей играют на PS4 - 22%, X360 - 21%, XOne - 20%.По рейтингу 40% выбирают \"для взрослых\", 19% - \"для всех\" и 17%, где рейтинг не определён.\n",
    "\n",
    "**II. Портрет пользователя из Европы**\n",
    "Наиболее популярными жанрами являются Action (32%), Sports (14%), Shooter (21%). Наибольшее количество людей играют на PS4 - 32%; PS3 - 20%; Xone, X360 - 12%. По рейтингу 41% выбирают \"для взрослых\", 21% - \"для всех\" и 16%, где рейтинг не определён.\n",
    "\n",
    "**III. Портрет пользователя из Японии**\n",
    "Наиболее популярными жанрами являются Role-Playing (36%), Action (27%), Другие (36%). Наибольшее количество людей играют на 3DS - 49%, PS3 - 18%, PSV - 12%. По рейтингу 17% выбирают \"для подростков\", 12% - \"для всех\" и 55%, где рейтинг не определён."
   ]
  },
  {
   "cell_type": "markdown",
   "metadata": {},
   "source": [
    "## Проверка гипотез и пояснение"
   ]
  },
  {
   "cell_type": "markdown",
   "metadata": {},
   "source": [
    "### Гипотеза \"Средние пользовательские рейтинги платформ Xbox One и PC одинаковые\"\n",
    "Нулевая гипотеза \"Средние пользовательские рейтинги платформ Xbox One и PC равны\". Альтернативная гипотеза - они различаются. Уровень статистической значимости = 0.05. Будем использовать гипотезу о равенстве средних двух генеральных совокупностей"
   ]
  },
  {
   "cell_type": "code",
   "execution_count": null,
   "metadata": {},
   "outputs": [],
   "source": [
    "xone_user_score = df.query('platform == \"XOne\" & 2005<= year_of_release <= 2015')['user_score'].dropna()\n",
    "pc_user_score = df.query('platform == \"PC\" & 2005<= year_of_release <= 2015')['user_score'].dropna()\n",
    "\n",
    "alpha_1 = .05\n",
    "results_1 = (st.ttest_ind(\n",
    "    xone_user_score,\n",
    "    pc_user_score)\n",
    ")\n",
    "\n",
    "print('р-значение =', results_1.pvalue)\n",
    "if (results_1.pvalue < alpha_1):\n",
    "    print('Отвергаем нулевую гипотезу')\n",
    "else:\n",
    "    print('Не отвергаем нулевую гипотезу')"
   ]
  },
  {
   "cell_type": "markdown",
   "metadata": {},
   "source": [
    "Отвергаем нулевую гипотезу \"О равенстве средних пользовательских рейтингах платформ Xbox One и PC\". "
   ]
  },
  {
   "cell_type": "markdown",
   "metadata": {},
   "source": [
    "### Гипотеза \"Средние пользовательские рейтинги жанров Action и Sports разные\"\n",
    "Нулевая гипотеза \"Средние пользовательские рейтинги жанров Action и Sports равны\". Альтернативная гипотеза - они различаются. Уровень статистической значимости = 0.05. Будем использовать гипотезу о равенстве средних двух генеральных совокупностей"
   ]
  },
  {
   "cell_type": "code",
   "execution_count": null,
   "metadata": {},
   "outputs": [],
   "source": [
    "action_user_score = df.query('genre == \"Action\" & 2005<= year_of_release <= 2015')['user_score'].dropna()\n",
    "sports_user_score = df.query('genre == \"Sports\" & 2005<= year_of_release <= 2015')['user_score'].dropna()\n",
    "\n",
    "alpha_2 = .05\n",
    "results_2 = (st.ttest_ind(\n",
    "    action_user_score,\n",
    "    sports_user_score)\n",
    ")\n",
    "\n",
    "print('р-значение =', results_2.pvalue)\n",
    "if (results_1.pvalue < alpha_2):\n",
    "    print('Отвергаем нулевую гипотезу')\n",
    "else:\n",
    "    print('Не отвергаем нулевую гипотезу')"
   ]
  },
  {
   "cell_type": "markdown",
   "metadata": {},
   "source": [
    "Отвергаем нулевую гипотезу \"О равенстве средних пользовательских рейтингах жанров Action и Sports\". Соответственно альтернативную гипотезу, о том, что они равные, не отвергаем."
   ]
  },
  {
   "cell_type": "markdown",
   "metadata": {},
   "source": [
    "# Общий вывод"
   ]
  },
  {
   "cell_type": "markdown",
   "metadata": {},
   "source": [
    "Данный проект мы начали с описательной части, где расписали значение столбцов, какая перед нами стоит задач и какие данные у нас есть. Затем мы перешли к обработке данных, где меняли регистр названия столбцов, заменяли пропуски или удаляли, а также проверяли на дубликаты. \n",
    "\n",
    "Следующим шагом была анализ очищенных данных. На данном шаге мы выяснили, срок \"жизни\" платформы, пик продаж игр, что позволила нам сократить период изучаемых данных до 3 лет. Затем выявили лидеров на этой декаде (PS3 и X360), а также потенциально успешные платформы (PS4 и XOne). Выяснили, что взаимосвязь количества продаж и пользовательских оценок нелинейная, а связь между отзывами критиков и продажачи наблюдается. После чего, мы определили портреты игроков из трех регионов, где выяснили сходство игроков из Северной Америки и Европы в жанрах, рейтингах. И огромная разница с игроками из Японии, которые предпочитают платформы 3DS и DS, жанр ролевых игр и чаще всего играют в игр с неопределенным рейтингом. \n",
    "\n",
    "В конце данного проекта мы проверили две гипотезы: \"Средние пользовательские рейтинги платформ Xbox One и PC одинаковые\" и \"Средние пользовательские рейтинги жанров Action и Sports разные\". Первую гипотезу мы отвергли, а вторую - нет.\n",
    "\n",
    "**Рекомендации**\n",
    "\n",
    "Важно понимать, кто является нашей целевой аудиторией. Если это Северная Америка, то акцент надо сделать на новую платформу Xone, игры с жанром Aсtion, Sports, Shooter и рейтингом \"для взрослых\". Если это Европа, то платформа - PS4, игры жанра - Aсtion, Sports, Shooter и ретингом \"для взрослых\". Если это Япония, то определенно платформа 3DS, жанр - Role-Playing или Action. По последним сложно сказать, какой они предпочитают рейтинг, необходимы дополнительные данные по этмоу региону. Если целью является создать мировую игру, то идеальный комбинация будет - PS4, Shooter, 'для взрослых'. Не стоит обделять вниманием критиков, так как их положительные оценки добавят балов к росту игры."
   ]
  }
 ],
 "metadata": {
  "ExecuteTimeLog": [
   {
    "duration": 1336,
    "start_time": "2022-08-22T11:06:13.461Z"
   },
   {
    "duration": 125,
    "start_time": "2022-08-22T11:06:14.799Z"
   },
   {
    "duration": 18,
    "start_time": "2022-08-22T11:06:19.221Z"
   },
   {
    "duration": 102,
    "start_time": "2022-08-22T11:08:06.431Z"
   },
   {
    "duration": 18,
    "start_time": "2022-08-22T11:15:17.301Z"
   },
   {
    "duration": 85,
    "start_time": "2022-08-22T11:18:18.289Z"
   },
   {
    "duration": 33,
    "start_time": "2022-08-22T11:21:23.939Z"
   },
   {
    "duration": 71,
    "start_time": "2022-08-22T11:21:54.845Z"
   },
   {
    "duration": 3,
    "start_time": "2022-08-22T11:28:47.932Z"
   },
   {
    "duration": 68,
    "start_time": "2022-08-22T11:28:47.937Z"
   },
   {
    "duration": 19,
    "start_time": "2022-08-22T11:28:48.007Z"
   },
   {
    "duration": 15,
    "start_time": "2022-08-22T11:28:48.028Z"
   },
   {
    "duration": 16,
    "start_time": "2022-08-22T11:28:48.044Z"
   },
   {
    "duration": 42,
    "start_time": "2022-08-22T11:28:48.062Z"
   },
   {
    "duration": 26,
    "start_time": "2022-08-22T11:28:48.106Z"
   },
   {
    "duration": 36,
    "start_time": "2022-08-22T11:28:48.133Z"
   },
   {
    "duration": 70,
    "start_time": "2022-08-22T11:28:48.171Z"
   },
   {
    "duration": 12,
    "start_time": "2022-08-22T11:28:48.243Z"
   },
   {
    "duration": 43,
    "start_time": "2022-08-22T11:28:48.257Z"
   },
   {
    "duration": 31,
    "start_time": "2022-08-22T11:28:48.302Z"
   },
   {
    "duration": 7,
    "start_time": "2022-08-22T11:28:48.335Z"
   },
   {
    "duration": 24,
    "start_time": "2022-08-22T11:28:48.344Z"
   },
   {
    "duration": 264,
    "start_time": "2022-08-22T11:28:48.398Z"
   },
   {
    "duration": 9,
    "start_time": "2022-08-22T11:28:52.732Z"
   },
   {
    "duration": 16,
    "start_time": "2022-08-22T11:29:01.048Z"
   },
   {
    "duration": 17,
    "start_time": "2022-08-22T11:50:30.517Z"
   },
   {
    "duration": 19,
    "start_time": "2022-08-22T11:51:40.762Z"
   },
   {
    "duration": 393,
    "start_time": "2022-08-22T11:52:12.736Z"
   },
   {
    "duration": 50,
    "start_time": "2022-08-22T11:53:58.582Z"
   },
   {
    "duration": 51,
    "start_time": "2022-08-22T11:54:12.715Z"
   },
   {
    "duration": 137,
    "start_time": "2022-08-22T11:54:25.974Z"
   },
   {
    "duration": 265,
    "start_time": "2022-08-22T11:55:29.092Z"
   },
   {
    "duration": 411,
    "start_time": "2022-08-22T12:06:48.544Z"
   },
   {
    "duration": 509,
    "start_time": "2022-08-22T12:07:32.296Z"
   },
   {
    "duration": 572,
    "start_time": "2022-08-22T12:08:05.759Z"
   },
   {
    "duration": 509,
    "start_time": "2022-08-22T12:08:41.328Z"
   },
   {
    "duration": 529,
    "start_time": "2022-08-22T12:09:01.435Z"
   },
   {
    "duration": 411,
    "start_time": "2022-08-22T12:10:42.236Z"
   },
   {
    "duration": 394,
    "start_time": "2022-08-22T12:11:03.041Z"
   },
   {
    "duration": 399,
    "start_time": "2022-08-22T12:12:34.785Z"
   },
   {
    "duration": 482,
    "start_time": "2022-08-22T12:14:19.816Z"
   },
   {
    "duration": 190,
    "start_time": "2022-08-22T12:14:33.536Z"
   },
   {
    "duration": 402,
    "start_time": "2022-08-22T12:14:40.672Z"
   },
   {
    "duration": 413,
    "start_time": "2022-08-22T12:14:49.596Z"
   },
   {
    "duration": 4973,
    "start_time": "2022-08-22T14:13:41.517Z"
   },
   {
    "duration": 28,
    "start_time": "2022-08-22T14:14:34.590Z"
   },
   {
    "duration": 18,
    "start_time": "2022-08-22T14:17:51.826Z"
   },
   {
    "duration": 12,
    "start_time": "2022-08-22T14:28:42.335Z"
   },
   {
    "duration": 25,
    "start_time": "2022-08-22T14:29:27.289Z"
   },
   {
    "duration": 318,
    "start_time": "2022-08-22T14:30:14.157Z"
   },
   {
    "duration": 445,
    "start_time": "2022-08-22T14:31:26.509Z"
   },
   {
    "duration": 267,
    "start_time": "2022-08-22T14:32:01.455Z"
   },
   {
    "duration": 279,
    "start_time": "2022-08-22T14:33:02.523Z"
   },
   {
    "duration": 462,
    "start_time": "2022-08-22T14:33:20.291Z"
   },
   {
    "duration": 304,
    "start_time": "2022-08-22T14:33:39.989Z"
   },
   {
    "duration": 408,
    "start_time": "2022-08-22T14:34:04.049Z"
   },
   {
    "duration": 416,
    "start_time": "2022-08-22T14:34:12.931Z"
   },
   {
    "duration": 368,
    "start_time": "2022-08-22T14:34:34.366Z"
   },
   {
    "duration": 304,
    "start_time": "2022-08-22T14:35:20.442Z"
   },
   {
    "duration": 265,
    "start_time": "2022-08-22T14:36:14.213Z"
   },
   {
    "duration": 334,
    "start_time": "2022-08-22T14:36:24.269Z"
   },
   {
    "duration": 4,
    "start_time": "2022-08-22T14:36:59.342Z"
   },
   {
    "duration": 82,
    "start_time": "2022-08-22T14:36:59.348Z"
   },
   {
    "duration": 24,
    "start_time": "2022-08-22T14:36:59.432Z"
   },
   {
    "duration": 18,
    "start_time": "2022-08-22T14:36:59.458Z"
   },
   {
    "duration": 131,
    "start_time": "2022-08-22T14:36:59.478Z"
   },
   {
    "duration": 13,
    "start_time": "2022-08-22T14:36:59.610Z"
   },
   {
    "duration": 42,
    "start_time": "2022-08-22T14:36:59.625Z"
   },
   {
    "duration": 73,
    "start_time": "2022-08-22T14:36:59.669Z"
   },
   {
    "duration": 74,
    "start_time": "2022-08-22T14:36:59.743Z"
   },
   {
    "duration": 18,
    "start_time": "2022-08-22T14:36:59.819Z"
   },
   {
    "duration": 34,
    "start_time": "2022-08-22T14:36:59.839Z"
   },
   {
    "duration": 52,
    "start_time": "2022-08-22T14:36:59.875Z"
   },
   {
    "duration": 8,
    "start_time": "2022-08-22T14:36:59.928Z"
   },
   {
    "duration": 30,
    "start_time": "2022-08-22T14:36:59.939Z"
   },
   {
    "duration": 305,
    "start_time": "2022-08-22T14:36:59.970Z"
   },
   {
    "duration": 23,
    "start_time": "2022-08-22T14:37:00.278Z"
   },
   {
    "duration": 364,
    "start_time": "2022-08-22T14:37:00.303Z"
   },
   {
    "duration": 8,
    "start_time": "2022-08-22T14:37:00.668Z"
   },
   {
    "duration": 51,
    "start_time": "2022-08-22T14:37:00.677Z"
   },
   {
    "duration": 1993,
    "start_time": "2022-08-22T14:37:00.729Z"
   },
   {
    "duration": 24,
    "start_time": "2022-08-22T14:37:02.725Z"
   },
   {
    "duration": 467,
    "start_time": "2022-08-22T14:37:02.750Z"
   },
   {
    "duration": 276,
    "start_time": "2022-08-22T14:37:03.219Z"
   },
   {
    "duration": 394,
    "start_time": "2022-08-22T14:37:03.497Z"
   },
   {
    "duration": 4989,
    "start_time": "2022-08-22T14:37:03.893Z"
   },
   {
    "duration": 25,
    "start_time": "2022-08-22T14:37:08.884Z"
   },
   {
    "duration": 300,
    "start_time": "2022-08-22T14:37:08.911Z"
   },
   {
    "duration": 319,
    "start_time": "2022-08-22T14:37:09.213Z"
   },
   {
    "duration": 1298,
    "start_time": "2022-08-22T14:40:33.588Z"
   },
   {
    "duration": 292,
    "start_time": "2022-08-22T14:40:46.858Z"
   },
   {
    "duration": 32,
    "start_time": "2022-08-22T14:41:09.266Z"
   },
   {
    "duration": 36,
    "start_time": "2022-08-22T14:41:38.499Z"
   },
   {
    "duration": 472,
    "start_time": "2022-08-22T14:41:51.819Z"
   },
   {
    "duration": 295,
    "start_time": "2022-08-22T14:42:12.879Z"
   },
   {
    "duration": 5,
    "start_time": "2022-08-22T14:42:22.934Z"
   },
   {
    "duration": 94,
    "start_time": "2022-08-22T14:42:22.941Z"
   },
   {
    "duration": 29,
    "start_time": "2022-08-22T14:42:23.038Z"
   },
   {
    "duration": 53,
    "start_time": "2022-08-22T14:42:23.069Z"
   },
   {
    "duration": 23,
    "start_time": "2022-08-22T14:42:23.123Z"
   },
   {
    "duration": 16,
    "start_time": "2022-08-22T14:42:23.149Z"
   },
   {
    "duration": 57,
    "start_time": "2022-08-22T14:42:23.167Z"
   },
   {
    "duration": 44,
    "start_time": "2022-08-22T14:42:23.225Z"
   },
   {
    "duration": 83,
    "start_time": "2022-08-22T14:42:23.271Z"
   },
   {
    "duration": 41,
    "start_time": "2022-08-22T14:42:23.358Z"
   },
   {
    "duration": 30,
    "start_time": "2022-08-22T14:42:23.401Z"
   },
   {
    "duration": 72,
    "start_time": "2022-08-22T14:42:23.433Z"
   },
   {
    "duration": 10,
    "start_time": "2022-08-22T14:42:23.507Z"
   },
   {
    "duration": 52,
    "start_time": "2022-08-22T14:42:23.519Z"
   },
   {
    "duration": 358,
    "start_time": "2022-08-22T14:42:23.573Z"
   },
   {
    "duration": 21,
    "start_time": "2022-08-22T14:42:23.932Z"
   },
   {
    "duration": 407,
    "start_time": "2022-08-22T14:42:23.955Z"
   },
   {
    "duration": 9,
    "start_time": "2022-08-22T14:42:24.364Z"
   },
   {
    "duration": 79,
    "start_time": "2022-08-22T14:42:24.375Z"
   },
   {
    "duration": 2270,
    "start_time": "2022-08-22T14:42:24.456Z"
   },
   {
    "duration": 27,
    "start_time": "2022-08-22T14:42:26.728Z"
   },
   {
    "duration": 495,
    "start_time": "2022-08-22T14:42:26.758Z"
   },
   {
    "duration": 313,
    "start_time": "2022-08-22T14:42:27.255Z"
   },
   {
    "duration": 574,
    "start_time": "2022-08-22T14:42:27.571Z"
   },
   {
    "duration": 4779,
    "start_time": "2022-08-22T14:42:28.147Z"
   },
   {
    "duration": 21,
    "start_time": "2022-08-22T14:42:32.928Z"
   },
   {
    "duration": 353,
    "start_time": "2022-08-22T14:42:32.951Z"
   },
   {
    "duration": 346,
    "start_time": "2022-08-22T14:42:33.308Z"
   },
   {
    "duration": 427,
    "start_time": "2022-08-22T14:42:40.259Z"
   },
   {
    "duration": 291,
    "start_time": "2022-08-22T14:42:55.163Z"
   },
   {
    "duration": 1122,
    "start_time": "2022-08-22T14:43:08.871Z"
   },
   {
    "duration": 75,
    "start_time": "2022-08-22T14:43:09.995Z"
   },
   {
    "duration": 20,
    "start_time": "2022-08-22T14:43:10.072Z"
   },
   {
    "duration": 18,
    "start_time": "2022-08-22T14:43:10.093Z"
   },
   {
    "duration": 21,
    "start_time": "2022-08-22T14:43:10.114Z"
   },
   {
    "duration": 15,
    "start_time": "2022-08-22T14:43:10.137Z"
   },
   {
    "duration": 50,
    "start_time": "2022-08-22T14:43:10.154Z"
   },
   {
    "duration": 65,
    "start_time": "2022-08-22T14:43:10.206Z"
   },
   {
    "duration": 105,
    "start_time": "2022-08-22T14:43:10.273Z"
   },
   {
    "duration": 19,
    "start_time": "2022-08-22T14:43:10.397Z"
   },
   {
    "duration": 29,
    "start_time": "2022-08-22T14:43:10.418Z"
   },
   {
    "duration": 56,
    "start_time": "2022-08-22T14:43:10.449Z"
   },
   {
    "duration": 10,
    "start_time": "2022-08-22T14:43:10.507Z"
   },
   {
    "duration": 33,
    "start_time": "2022-08-22T14:43:10.520Z"
   },
   {
    "duration": 304,
    "start_time": "2022-08-22T14:43:10.555Z"
   },
   {
    "duration": 14,
    "start_time": "2022-08-22T14:43:10.860Z"
   },
   {
    "duration": 290,
    "start_time": "2022-08-22T14:43:10.876Z"
   },
   {
    "duration": 8,
    "start_time": "2022-08-22T14:43:11.167Z"
   },
   {
    "duration": 53,
    "start_time": "2022-08-22T14:43:11.177Z"
   },
   {
    "duration": 1650,
    "start_time": "2022-08-22T14:43:11.231Z"
   },
   {
    "duration": 31,
    "start_time": "2022-08-22T14:43:12.883Z"
   },
   {
    "duration": 437,
    "start_time": "2022-08-22T14:43:12.916Z"
   },
   {
    "duration": 278,
    "start_time": "2022-08-22T14:43:13.355Z"
   },
   {
    "duration": 409,
    "start_time": "2022-08-22T14:43:13.634Z"
   },
   {
    "duration": 4881,
    "start_time": "2022-08-22T14:43:14.046Z"
   },
   {
    "duration": 20,
    "start_time": "2022-08-22T14:43:18.929Z"
   },
   {
    "duration": 312,
    "start_time": "2022-08-22T14:43:18.951Z"
   },
   {
    "duration": 451,
    "start_time": "2022-08-22T14:43:19.265Z"
   },
   {
    "duration": 309,
    "start_time": "2022-08-22T14:43:19.718Z"
   },
   {
    "duration": 14,
    "start_time": "2022-08-22T14:43:20.029Z"
   },
   {
    "duration": 17,
    "start_time": "2022-08-22T14:43:20.045Z"
   },
   {
    "duration": 3,
    "start_time": "2022-08-22T14:44:39.931Z"
   },
   {
    "duration": 70,
    "start_time": "2022-08-22T14:44:39.936Z"
   },
   {
    "duration": 26,
    "start_time": "2022-08-22T14:44:40.008Z"
   },
   {
    "duration": 26,
    "start_time": "2022-08-22T14:44:40.035Z"
   },
   {
    "duration": 46,
    "start_time": "2022-08-22T14:44:40.063Z"
   },
   {
    "duration": 13,
    "start_time": "2022-08-22T14:44:40.111Z"
   },
   {
    "duration": 33,
    "start_time": "2022-08-22T14:44:40.125Z"
   },
   {
    "duration": 82,
    "start_time": "2022-08-22T14:44:40.160Z"
   },
   {
    "duration": 68,
    "start_time": "2022-08-22T14:44:40.245Z"
   },
   {
    "duration": 19,
    "start_time": "2022-08-22T14:44:40.315Z"
   },
   {
    "duration": 36,
    "start_time": "2022-08-22T14:44:40.337Z"
   },
   {
    "duration": 37,
    "start_time": "2022-08-22T14:44:40.397Z"
   },
   {
    "duration": 8,
    "start_time": "2022-08-22T14:44:40.436Z"
   },
   {
    "duration": 50,
    "start_time": "2022-08-22T14:44:40.448Z"
   },
   {
    "duration": 260,
    "start_time": "2022-08-22T14:44:40.501Z"
   },
   {
    "duration": 16,
    "start_time": "2022-08-22T14:44:40.762Z"
   },
   {
    "duration": 341,
    "start_time": "2022-08-22T14:44:40.780Z"
   },
   {
    "duration": 8,
    "start_time": "2022-08-22T14:44:41.123Z"
   },
   {
    "duration": 34,
    "start_time": "2022-08-22T14:44:41.132Z"
   },
   {
    "duration": 1931,
    "start_time": "2022-08-22T14:44:41.168Z"
   },
   {
    "duration": 27,
    "start_time": "2022-08-22T14:44:43.101Z"
   },
   {
    "duration": 428,
    "start_time": "2022-08-22T14:44:43.130Z"
   },
   {
    "duration": 285,
    "start_time": "2022-08-22T14:44:43.560Z"
   },
   {
    "duration": 383,
    "start_time": "2022-08-22T14:44:43.847Z"
   },
   {
    "duration": 4790,
    "start_time": "2022-08-22T14:44:44.232Z"
   },
   {
    "duration": 17,
    "start_time": "2022-08-22T14:44:49.024Z"
   },
   {
    "duration": 443,
    "start_time": "2022-08-22T14:44:49.043Z"
   },
   {
    "duration": 312,
    "start_time": "2022-08-22T14:44:49.489Z"
   },
   {
    "duration": 283,
    "start_time": "2022-08-22T14:45:03.767Z"
   },
   {
    "duration": 278,
    "start_time": "2022-08-22T14:46:25.032Z"
   },
   {
    "duration": 322,
    "start_time": "2022-08-22T14:54:32.931Z"
   },
   {
    "duration": 91,
    "start_time": "2022-08-22T14:55:26.370Z"
   },
   {
    "duration": 52,
    "start_time": "2022-08-22T14:55:37.531Z"
   },
   {
    "duration": 57,
    "start_time": "2022-08-22T14:55:51.517Z"
   },
   {
    "duration": 287,
    "start_time": "2022-08-22T14:55:59.298Z"
   },
   {
    "duration": 1139,
    "start_time": "2022-08-22T15:01:25.577Z"
   },
   {
    "duration": 72,
    "start_time": "2022-08-22T15:01:26.718Z"
   },
   {
    "duration": 19,
    "start_time": "2022-08-22T15:01:26.792Z"
   },
   {
    "duration": 22,
    "start_time": "2022-08-22T15:01:26.813Z"
   },
   {
    "duration": 20,
    "start_time": "2022-08-22T15:01:26.837Z"
   },
   {
    "duration": 41,
    "start_time": "2022-08-22T15:01:26.859Z"
   },
   {
    "duration": 34,
    "start_time": "2022-08-22T15:01:26.902Z"
   },
   {
    "duration": 39,
    "start_time": "2022-08-22T15:01:26.938Z"
   },
   {
    "duration": 70,
    "start_time": "2022-08-22T15:01:26.978Z"
   },
   {
    "duration": 14,
    "start_time": "2022-08-22T15:01:27.050Z"
   },
   {
    "duration": 51,
    "start_time": "2022-08-22T15:01:27.066Z"
   },
   {
    "duration": 43,
    "start_time": "2022-08-22T15:01:27.119Z"
   },
   {
    "duration": 10,
    "start_time": "2022-08-22T15:01:27.164Z"
   },
   {
    "duration": 35,
    "start_time": "2022-08-22T15:01:27.198Z"
   },
   {
    "duration": 265,
    "start_time": "2022-08-22T15:01:27.234Z"
   },
   {
    "duration": 15,
    "start_time": "2022-08-22T15:01:27.500Z"
   },
   {
    "duration": 292,
    "start_time": "2022-08-22T15:01:27.516Z"
   },
   {
    "duration": 10,
    "start_time": "2022-08-22T15:01:27.810Z"
   },
   {
    "duration": 35,
    "start_time": "2022-08-22T15:01:27.823Z"
   },
   {
    "duration": 1646,
    "start_time": "2022-08-22T15:01:27.860Z"
   },
   {
    "duration": 20,
    "start_time": "2022-08-22T15:01:29.508Z"
   },
   {
    "duration": 444,
    "start_time": "2022-08-22T15:01:29.529Z"
   },
   {
    "duration": 288,
    "start_time": "2022-08-22T15:01:29.975Z"
   },
   {
    "duration": 407,
    "start_time": "2022-08-22T15:01:30.265Z"
   },
   {
    "duration": 4997,
    "start_time": "2022-08-22T15:01:30.675Z"
   },
   {
    "duration": 28,
    "start_time": "2022-08-22T15:01:35.674Z"
   },
   {
    "duration": 383,
    "start_time": "2022-08-22T15:01:35.704Z"
   },
   {
    "duration": 456,
    "start_time": "2022-08-22T15:01:36.100Z"
   },
   {
    "duration": 295,
    "start_time": "2022-08-22T15:01:36.557Z"
   },
   {
    "duration": 12,
    "start_time": "2022-08-22T15:01:36.854Z"
   },
   {
    "duration": 14,
    "start_time": "2022-08-22T15:01:36.868Z"
   },
   {
    "duration": 13,
    "start_time": "2022-08-22T15:08:41.118Z"
   },
   {
    "duration": 13,
    "start_time": "2022-08-22T15:08:54.158Z"
   },
   {
    "duration": 56,
    "start_time": "2022-08-22T15:19:49.992Z"
   },
   {
    "duration": 1053,
    "start_time": "2022-08-22T15:45:11.722Z"
   },
   {
    "duration": 72,
    "start_time": "2022-08-22T15:45:12.777Z"
   },
   {
    "duration": 20,
    "start_time": "2022-08-22T15:45:12.851Z"
   },
   {
    "duration": 27,
    "start_time": "2022-08-22T15:45:12.873Z"
   },
   {
    "duration": 17,
    "start_time": "2022-08-22T15:45:12.902Z"
   },
   {
    "duration": 15,
    "start_time": "2022-08-22T15:45:12.921Z"
   },
   {
    "duration": 28,
    "start_time": "2022-08-22T15:45:12.937Z"
   },
   {
    "duration": 57,
    "start_time": "2022-08-22T15:45:12.966Z"
   },
   {
    "duration": 50,
    "start_time": "2022-08-22T15:45:13.025Z"
   },
   {
    "duration": 30,
    "start_time": "2022-08-22T15:45:13.076Z"
   },
   {
    "duration": 24,
    "start_time": "2022-08-22T15:45:13.108Z"
   },
   {
    "duration": 27,
    "start_time": "2022-08-22T15:45:13.133Z"
   },
   {
    "duration": 6,
    "start_time": "2022-08-22T15:45:13.162Z"
   },
   {
    "duration": 47,
    "start_time": "2022-08-22T15:45:13.170Z"
   },
   {
    "duration": 260,
    "start_time": "2022-08-22T15:45:13.219Z"
   },
   {
    "duration": 20,
    "start_time": "2022-08-22T15:45:13.480Z"
   },
   {
    "duration": 270,
    "start_time": "2022-08-22T15:45:13.502Z"
   },
   {
    "duration": 7,
    "start_time": "2022-08-22T15:45:13.773Z"
   },
   {
    "duration": 42,
    "start_time": "2022-08-22T15:45:13.782Z"
   },
   {
    "duration": 1666,
    "start_time": "2022-08-22T15:45:13.825Z"
   },
   {
    "duration": 23,
    "start_time": "2022-08-22T15:45:15.492Z"
   },
   {
    "duration": 418,
    "start_time": "2022-08-22T15:45:15.516Z"
   },
   {
    "duration": 275,
    "start_time": "2022-08-22T15:45:15.936Z"
   },
   {
    "duration": 375,
    "start_time": "2022-08-22T15:45:16.213Z"
   },
   {
    "duration": 4640,
    "start_time": "2022-08-22T15:45:16.590Z"
   },
   {
    "duration": 15,
    "start_time": "2022-08-22T15:45:21.231Z"
   },
   {
    "duration": 264,
    "start_time": "2022-08-22T15:45:21.247Z"
   },
   {
    "duration": 375,
    "start_time": "2022-08-22T15:45:21.512Z"
   },
   {
    "duration": 275,
    "start_time": "2022-08-22T15:45:21.897Z"
   },
   {
    "duration": 12,
    "start_time": "2022-08-22T15:45:22.173Z"
   },
   {
    "duration": 21,
    "start_time": "2022-08-22T15:45:22.186Z"
   },
   {
    "duration": 53,
    "start_time": "2022-08-25T19:08:05.529Z"
   },
   {
    "duration": 1370,
    "start_time": "2022-08-25T19:08:16.935Z"
   },
   {
    "duration": 156,
    "start_time": "2022-08-25T19:08:18.307Z"
   },
   {
    "duration": 22,
    "start_time": "2022-08-25T19:08:18.464Z"
   },
   {
    "duration": 18,
    "start_time": "2022-08-25T19:08:18.488Z"
   },
   {
    "duration": 27,
    "start_time": "2022-08-25T19:08:18.509Z"
   },
   {
    "duration": 19,
    "start_time": "2022-08-25T19:08:18.538Z"
   },
   {
    "duration": 28,
    "start_time": "2022-08-25T19:08:18.559Z"
   },
   {
    "duration": 66,
    "start_time": "2022-08-25T19:08:18.588Z"
   },
   {
    "duration": 76,
    "start_time": "2022-08-25T19:08:18.656Z"
   },
   {
    "duration": 14,
    "start_time": "2022-08-25T19:08:18.734Z"
   },
   {
    "duration": 26,
    "start_time": "2022-08-25T19:08:18.750Z"
   },
   {
    "duration": 54,
    "start_time": "2022-08-25T19:08:18.778Z"
   },
   {
    "duration": 7,
    "start_time": "2022-08-25T19:08:18.837Z"
   },
   {
    "duration": 26,
    "start_time": "2022-08-25T19:08:18.847Z"
   },
   {
    "duration": 299,
    "start_time": "2022-08-25T19:08:18.874Z"
   },
   {
    "duration": 16,
    "start_time": "2022-08-25T19:08:19.174Z"
   },
   {
    "duration": 348,
    "start_time": "2022-08-25T19:08:19.192Z"
   },
   {
    "duration": 8,
    "start_time": "2022-08-25T19:08:19.542Z"
   },
   {
    "duration": 40,
    "start_time": "2022-08-25T19:08:19.552Z"
   },
   {
    "duration": 1983,
    "start_time": "2022-08-25T19:08:19.593Z"
   },
   {
    "duration": 21,
    "start_time": "2022-08-25T19:08:21.577Z"
   },
   {
    "duration": 563,
    "start_time": "2022-08-25T19:08:21.611Z"
   },
   {
    "duration": 0,
    "start_time": "2022-08-25T19:08:22.176Z"
   },
   {
    "duration": 0,
    "start_time": "2022-08-25T19:08:22.177Z"
   },
   {
    "duration": 0,
    "start_time": "2022-08-25T19:08:22.179Z"
   },
   {
    "duration": 0,
    "start_time": "2022-08-25T19:08:22.180Z"
   },
   {
    "duration": 0,
    "start_time": "2022-08-25T19:08:22.182Z"
   },
   {
    "duration": 0,
    "start_time": "2022-08-25T19:08:22.182Z"
   },
   {
    "duration": 0,
    "start_time": "2022-08-25T19:08:22.184Z"
   },
   {
    "duration": 0,
    "start_time": "2022-08-25T19:08:22.186Z"
   },
   {
    "duration": 0,
    "start_time": "2022-08-25T19:08:22.188Z"
   },
   {
    "duration": 478,
    "start_time": "2022-08-25T19:08:59.753Z"
   }
  ],
  "kernelspec": {
   "display_name": "Python 3 (ipykernel)",
   "language": "python",
   "name": "python3"
  },
  "language_info": {
   "codemirror_mode": {
    "name": "ipython",
    "version": 3
   },
   "file_extension": ".py",
   "mimetype": "text/x-python",
   "name": "python",
   "nbconvert_exporter": "python",
   "pygments_lexer": "ipython3",
   "version": "3.9.13"
  },
  "toc": {
   "base_numbering": 1,
   "nav_menu": {},
   "number_sections": true,
   "sideBar": true,
   "skip_h1_title": true,
   "title_cell": "Table of Contents",
   "title_sidebar": "Contents",
   "toc_cell": false,
   "toc_position": {},
   "toc_section_display": true,
   "toc_window_display": false
  }
 },
 "nbformat": 4,
 "nbformat_minor": 2
}
